{
  "cells": [
    {
      "cell_type": "markdown",
      "metadata": {
        "id": "view-in-github",
        "colab_type": "text"
      },
      "source": [
        "<a href=\"https://colab.research.google.com/github/DandyYahmin/Learn-Data-Analytics/blob/main/Sales_Analysis_%26_Forecasting.ipynb\" target=\"_parent\"><img src=\"https://colab.research.google.com/assets/colab-badge.svg\" alt=\"Open In Colab\"/></a>"
      ]
    },
    {
      "cell_type": "markdown",
      "source": [
        "# **Pendahuluan**\n",
        "\n",
        "\n",
        "Tujuan utama adalah untuk menganalisis dan memahami pola penjualan & tren musiman berdasarkan dataset.\n",
        "\n",
        "## **Isi:**\n",
        "\n",
        "Dataset ini mencakup semua transaksi dari sebuah perusahaan ritel online yang berbasis di Inggris selama periode 1 Desember 2010 hingga 9 Desember 2011. Perusahaan ini fokus pada penjualan hadiah unik untuk berbagai kesempatan, dengan sebagian besar pelanggannya adalah grosir.\n",
        "\n",
        "referensi data: https://www.kaggle.com/datasets/carrie1/ecommerce-data"
      ],
      "metadata": {
        "id": "_A2yVKO7EqpB"
      }
    },
    {
      "cell_type": "markdown",
      "source": [
        "# **Mengimpor library & Memuat data**"
      ],
      "metadata": {
        "id": "L7PXyLJsGC2Q"
      }
    },
    {
      "cell_type": "code",
      "source": [
        "!pip install catboost"
      ],
      "metadata": {
        "colab": {
          "base_uri": "https://localhost:8080/"
        },
        "id": "PHVECmvTVAjP",
        "outputId": "e8b5165e-81d2-450f-90c3-822a3000ae48"
      },
      "execution_count": 6,
      "outputs": [
        {
          "output_type": "stream",
          "name": "stdout",
          "text": [
            "Requirement already satisfied: catboost in /usr/local/lib/python3.10/dist-packages (1.2.5)\n",
            "Requirement already satisfied: graphviz in /usr/local/lib/python3.10/dist-packages (from catboost) (0.20.3)\n",
            "Requirement already satisfied: matplotlib in /usr/local/lib/python3.10/dist-packages (from catboost) (3.7.1)\n",
            "Requirement already satisfied: numpy>=1.16.0 in /usr/local/lib/python3.10/dist-packages (from catboost) (1.26.4)\n",
            "Requirement already satisfied: pandas>=0.24 in /usr/local/lib/python3.10/dist-packages (from catboost) (2.1.4)\n",
            "Requirement already satisfied: scipy in /usr/local/lib/python3.10/dist-packages (from catboost) (1.13.1)\n",
            "Requirement already satisfied: plotly in /usr/local/lib/python3.10/dist-packages (from catboost) (5.15.0)\n",
            "Requirement already satisfied: six in /usr/local/lib/python3.10/dist-packages (from catboost) (1.16.0)\n",
            "Requirement already satisfied: python-dateutil>=2.8.2 in /usr/local/lib/python3.10/dist-packages (from pandas>=0.24->catboost) (2.8.2)\n",
            "Requirement already satisfied: pytz>=2020.1 in /usr/local/lib/python3.10/dist-packages (from pandas>=0.24->catboost) (2024.1)\n",
            "Requirement already satisfied: tzdata>=2022.1 in /usr/local/lib/python3.10/dist-packages (from pandas>=0.24->catboost) (2024.1)\n",
            "Requirement already satisfied: contourpy>=1.0.1 in /usr/local/lib/python3.10/dist-packages (from matplotlib->catboost) (1.2.1)\n",
            "Requirement already satisfied: cycler>=0.10 in /usr/local/lib/python3.10/dist-packages (from matplotlib->catboost) (0.12.1)\n",
            "Requirement already satisfied: fonttools>=4.22.0 in /usr/local/lib/python3.10/dist-packages (from matplotlib->catboost) (4.53.1)\n",
            "Requirement already satisfied: kiwisolver>=1.0.1 in /usr/local/lib/python3.10/dist-packages (from matplotlib->catboost) (1.4.5)\n",
            "Requirement already satisfied: packaging>=20.0 in /usr/local/lib/python3.10/dist-packages (from matplotlib->catboost) (24.1)\n",
            "Requirement already satisfied: pillow>=6.2.0 in /usr/local/lib/python3.10/dist-packages (from matplotlib->catboost) (9.4.0)\n",
            "Requirement already satisfied: pyparsing>=2.3.1 in /usr/local/lib/python3.10/dist-packages (from matplotlib->catboost) (3.1.2)\n",
            "Requirement already satisfied: tenacity>=6.2.0 in /usr/local/lib/python3.10/dist-packages (from plotly->catboost) (9.0.0)\n"
          ]
        }
      ]
    },
    {
      "cell_type": "code",
      "source": [
        "import numpy as np\n",
        "import pandas as pd\n",
        "pd.set_option('display.float_format', '{:.2f}'.format)\n",
        "pd.set_option('display.max_rows', 100)\n",
        "\n",
        "import warnings\n",
        "warnings.filterwarnings(\"ignore\")\n",
        "\n",
        "import matplotlib.pyplot as plt\n",
        "%matplotlib inline\n",
        "import seaborn as sns\n",
        "sns.set_style('darkgrid')\n",
        "import plotly.express as px\n",
        "from plotly.subplots import make_subplots\n",
        "import plotly.graph_objs as go\n",
        "\n",
        "from sklearn.model_selection import train_test_split\n",
        "from sklearn.model_selection import GridSearchCV\n",
        "from sklearn.metrics import mean_squared_error\n",
        "from sklearn.preprocessing import LabelEncoder\n",
        "\n",
        "from sklearn.neighbors import KNeighborsRegressor\n",
        "from sklearn.ensemble import RandomForestRegressor\n",
        "from catboost import CatBoostRegressor, Pool\n",
        "from sklearn.cluster import KMeans"
      ],
      "metadata": {
        "id": "c6-Zy4CtGarl"
      },
      "execution_count": 7,
      "outputs": []
    },
    {
      "cell_type": "code",
      "source": [
        "data = pd.read_csv('data.csv', encoding='latin-1')"
      ],
      "metadata": {
        "id": "tbNduCK_GUZG"
      },
      "execution_count": 8,
      "outputs": []
    },
    {
      "cell_type": "markdown",
      "source": [
        "# **Eksplorasi data**\n",
        "\n",
        "\n",
        "### Hal yang Kami Verifikasi:\n",
        "Kolom 'InvoiceDate' diubah dari tipe string menjadi objek datetime (diubah pada saat pembersihan data). Jumlah nilai nol dan nilai yang hilang yang terdapat dalam dataset."
      ],
      "metadata": {
        "id": "wgt1A3EHGkAL"
      }
    },
    {
      "cell_type": "code",
      "source": [
        "data.dtypes"
      ],
      "metadata": {
        "colab": {
          "base_uri": "https://localhost:8080/",
          "height": 335
        },
        "id": "Aa6aD3GEHD2O",
        "outputId": "77881d65-6655-4a31-dcab-831e53a6fc42"
      },
      "execution_count": 9,
      "outputs": [
        {
          "output_type": "execute_result",
          "data": {
            "text/plain": [
              "InvoiceNo       object\n",
              "StockCode       object\n",
              "Description     object\n",
              "Quantity         int64\n",
              "InvoiceDate     object\n",
              "UnitPrice      float64\n",
              "CustomerID     float64\n",
              "Country         object\n",
              "dtype: object"
            ],
            "text/html": [
              "<table border=\"1\" class=\"dataframe\">\n",
              "  <thead>\n",
              "    <tr style=\"text-align: right;\">\n",
              "      <th></th>\n",
              "      <th>0</th>\n",
              "    </tr>\n",
              "  </thead>\n",
              "  <tbody>\n",
              "    <tr>\n",
              "      <th>InvoiceNo</th>\n",
              "      <td>object</td>\n",
              "    </tr>\n",
              "    <tr>\n",
              "      <th>StockCode</th>\n",
              "      <td>object</td>\n",
              "    </tr>\n",
              "    <tr>\n",
              "      <th>Description</th>\n",
              "      <td>object</td>\n",
              "    </tr>\n",
              "    <tr>\n",
              "      <th>Quantity</th>\n",
              "      <td>int64</td>\n",
              "    </tr>\n",
              "    <tr>\n",
              "      <th>InvoiceDate</th>\n",
              "      <td>object</td>\n",
              "    </tr>\n",
              "    <tr>\n",
              "      <th>UnitPrice</th>\n",
              "      <td>float64</td>\n",
              "    </tr>\n",
              "    <tr>\n",
              "      <th>CustomerID</th>\n",
              "      <td>float64</td>\n",
              "    </tr>\n",
              "    <tr>\n",
              "      <th>Country</th>\n",
              "      <td>object</td>\n",
              "    </tr>\n",
              "  </tbody>\n",
              "</table><br><label><b>dtype:</b> object</label>"
            ]
          },
          "metadata": {},
          "execution_count": 9
        }
      ]
    },
    {
      "cell_type": "code",
      "source": [
        "data.head()"
      ],
      "metadata": {
        "colab": {
          "base_uri": "https://localhost:8080/",
          "height": 206
        },
        "id": "s_oJX_-dHUKu",
        "outputId": "bcba0f7e-9332-40c5-87d0-36989f2b5ab0"
      },
      "execution_count": 10,
      "outputs": [
        {
          "output_type": "execute_result",
          "data": {
            "text/plain": [
              "  InvoiceNo StockCode                          Description  Quantity  \\\n",
              "0    536365    85123A   WHITE HANGING HEART T-LIGHT HOLDER         6   \n",
              "1    536365     71053                  WHITE METAL LANTERN         6   \n",
              "2    536365    84406B       CREAM CUPID HEARTS COAT HANGER         8   \n",
              "3    536365    84029G  KNITTED UNION FLAG HOT WATER BOTTLE         6   \n",
              "4    536365    84029E       RED WOOLLY HOTTIE WHITE HEART.         6   \n",
              "\n",
              "      InvoiceDate  UnitPrice  CustomerID         Country  \n",
              "0  12/1/2010 8:26       2.55    17850.00  United Kingdom  \n",
              "1  12/1/2010 8:26       3.39    17850.00  United Kingdom  \n",
              "2  12/1/2010 8:26       2.75    17850.00  United Kingdom  \n",
              "3  12/1/2010 8:26       3.39    17850.00  United Kingdom  \n",
              "4  12/1/2010 8:26       3.39    17850.00  United Kingdom  "
            ],
            "text/html": [
              "\n",
              "  <div id=\"df-f00ea946-0a4c-4a69-b98f-db0edcbefe95\" class=\"colab-df-container\">\n",
              "    <div>\n",
              "<style scoped>\n",
              "    .dataframe tbody tr th:only-of-type {\n",
              "        vertical-align: middle;\n",
              "    }\n",
              "\n",
              "    .dataframe tbody tr th {\n",
              "        vertical-align: top;\n",
              "    }\n",
              "\n",
              "    .dataframe thead th {\n",
              "        text-align: right;\n",
              "    }\n",
              "</style>\n",
              "<table border=\"1\" class=\"dataframe\">\n",
              "  <thead>\n",
              "    <tr style=\"text-align: right;\">\n",
              "      <th></th>\n",
              "      <th>InvoiceNo</th>\n",
              "      <th>StockCode</th>\n",
              "      <th>Description</th>\n",
              "      <th>Quantity</th>\n",
              "      <th>InvoiceDate</th>\n",
              "      <th>UnitPrice</th>\n",
              "      <th>CustomerID</th>\n",
              "      <th>Country</th>\n",
              "    </tr>\n",
              "  </thead>\n",
              "  <tbody>\n",
              "    <tr>\n",
              "      <th>0</th>\n",
              "      <td>536365</td>\n",
              "      <td>85123A</td>\n",
              "      <td>WHITE HANGING HEART T-LIGHT HOLDER</td>\n",
              "      <td>6</td>\n",
              "      <td>12/1/2010 8:26</td>\n",
              "      <td>2.55</td>\n",
              "      <td>17850.00</td>\n",
              "      <td>United Kingdom</td>\n",
              "    </tr>\n",
              "    <tr>\n",
              "      <th>1</th>\n",
              "      <td>536365</td>\n",
              "      <td>71053</td>\n",
              "      <td>WHITE METAL LANTERN</td>\n",
              "      <td>6</td>\n",
              "      <td>12/1/2010 8:26</td>\n",
              "      <td>3.39</td>\n",
              "      <td>17850.00</td>\n",
              "      <td>United Kingdom</td>\n",
              "    </tr>\n",
              "    <tr>\n",
              "      <th>2</th>\n",
              "      <td>536365</td>\n",
              "      <td>84406B</td>\n",
              "      <td>CREAM CUPID HEARTS COAT HANGER</td>\n",
              "      <td>8</td>\n",
              "      <td>12/1/2010 8:26</td>\n",
              "      <td>2.75</td>\n",
              "      <td>17850.00</td>\n",
              "      <td>United Kingdom</td>\n",
              "    </tr>\n",
              "    <tr>\n",
              "      <th>3</th>\n",
              "      <td>536365</td>\n",
              "      <td>84029G</td>\n",
              "      <td>KNITTED UNION FLAG HOT WATER BOTTLE</td>\n",
              "      <td>6</td>\n",
              "      <td>12/1/2010 8:26</td>\n",
              "      <td>3.39</td>\n",
              "      <td>17850.00</td>\n",
              "      <td>United Kingdom</td>\n",
              "    </tr>\n",
              "    <tr>\n",
              "      <th>4</th>\n",
              "      <td>536365</td>\n",
              "      <td>84029E</td>\n",
              "      <td>RED WOOLLY HOTTIE WHITE HEART.</td>\n",
              "      <td>6</td>\n",
              "      <td>12/1/2010 8:26</td>\n",
              "      <td>3.39</td>\n",
              "      <td>17850.00</td>\n",
              "      <td>United Kingdom</td>\n",
              "    </tr>\n",
              "  </tbody>\n",
              "</table>\n",
              "</div>\n",
              "    <div class=\"colab-df-buttons\">\n",
              "\n",
              "  <div class=\"colab-df-container\">\n",
              "    <button class=\"colab-df-convert\" onclick=\"convertToInteractive('df-f00ea946-0a4c-4a69-b98f-db0edcbefe95')\"\n",
              "            title=\"Convert this dataframe to an interactive table.\"\n",
              "            style=\"display:none;\">\n",
              "\n",
              "  <svg xmlns=\"http://www.w3.org/2000/svg\" height=\"24px\" viewBox=\"0 -960 960 960\">\n",
              "    <path d=\"M120-120v-720h720v720H120Zm60-500h600v-160H180v160Zm220 220h160v-160H400v160Zm0 220h160v-160H400v160ZM180-400h160v-160H180v160Zm440 0h160v-160H620v160ZM180-180h160v-160H180v160Zm440 0h160v-160H620v160Z\"/>\n",
              "  </svg>\n",
              "    </button>\n",
              "\n",
              "  <style>\n",
              "    .colab-df-container {\n",
              "      display:flex;\n",
              "      gap: 12px;\n",
              "    }\n",
              "\n",
              "    .colab-df-convert {\n",
              "      background-color: #E8F0FE;\n",
              "      border: none;\n",
              "      border-radius: 50%;\n",
              "      cursor: pointer;\n",
              "      display: none;\n",
              "      fill: #1967D2;\n",
              "      height: 32px;\n",
              "      padding: 0 0 0 0;\n",
              "      width: 32px;\n",
              "    }\n",
              "\n",
              "    .colab-df-convert:hover {\n",
              "      background-color: #E2EBFA;\n",
              "      box-shadow: 0px 1px 2px rgba(60, 64, 67, 0.3), 0px 1px 3px 1px rgba(60, 64, 67, 0.15);\n",
              "      fill: #174EA6;\n",
              "    }\n",
              "\n",
              "    .colab-df-buttons div {\n",
              "      margin-bottom: 4px;\n",
              "    }\n",
              "\n",
              "    [theme=dark] .colab-df-convert {\n",
              "      background-color: #3B4455;\n",
              "      fill: #D2E3FC;\n",
              "    }\n",
              "\n",
              "    [theme=dark] .colab-df-convert:hover {\n",
              "      background-color: #434B5C;\n",
              "      box-shadow: 0px 1px 3px 1px rgba(0, 0, 0, 0.15);\n",
              "      filter: drop-shadow(0px 1px 2px rgba(0, 0, 0, 0.3));\n",
              "      fill: #FFFFFF;\n",
              "    }\n",
              "  </style>\n",
              "\n",
              "    <script>\n",
              "      const buttonEl =\n",
              "        document.querySelector('#df-f00ea946-0a4c-4a69-b98f-db0edcbefe95 button.colab-df-convert');\n",
              "      buttonEl.style.display =\n",
              "        google.colab.kernel.accessAllowed ? 'block' : 'none';\n",
              "\n",
              "      async function convertToInteractive(key) {\n",
              "        const element = document.querySelector('#df-f00ea946-0a4c-4a69-b98f-db0edcbefe95');\n",
              "        const dataTable =\n",
              "          await google.colab.kernel.invokeFunction('convertToInteractive',\n",
              "                                                    [key], {});\n",
              "        if (!dataTable) return;\n",
              "\n",
              "        const docLinkHtml = 'Like what you see? Visit the ' +\n",
              "          '<a target=\"_blank\" href=https://colab.research.google.com/notebooks/data_table.ipynb>data table notebook</a>'\n",
              "          + ' to learn more about interactive tables.';\n",
              "        element.innerHTML = '';\n",
              "        dataTable['output_type'] = 'display_data';\n",
              "        await google.colab.output.renderOutput(dataTable, element);\n",
              "        const docLink = document.createElement('div');\n",
              "        docLink.innerHTML = docLinkHtml;\n",
              "        element.appendChild(docLink);\n",
              "      }\n",
              "    </script>\n",
              "  </div>\n",
              "\n",
              "\n",
              "<div id=\"df-0dcb3b56-9fb1-4e36-b1d8-80ada4aa0e41\">\n",
              "  <button class=\"colab-df-quickchart\" onclick=\"quickchart('df-0dcb3b56-9fb1-4e36-b1d8-80ada4aa0e41')\"\n",
              "            title=\"Suggest charts\"\n",
              "            style=\"display:none;\">\n",
              "\n",
              "<svg xmlns=\"http://www.w3.org/2000/svg\" height=\"24px\"viewBox=\"0 0 24 24\"\n",
              "     width=\"24px\">\n",
              "    <g>\n",
              "        <path d=\"M19 3H5c-1.1 0-2 .9-2 2v14c0 1.1.9 2 2 2h14c1.1 0 2-.9 2-2V5c0-1.1-.9-2-2-2zM9 17H7v-7h2v7zm4 0h-2V7h2v10zm4 0h-2v-4h2v4z\"/>\n",
              "    </g>\n",
              "</svg>\n",
              "  </button>\n",
              "\n",
              "<style>\n",
              "  .colab-df-quickchart {\n",
              "      --bg-color: #E8F0FE;\n",
              "      --fill-color: #1967D2;\n",
              "      --hover-bg-color: #E2EBFA;\n",
              "      --hover-fill-color: #174EA6;\n",
              "      --disabled-fill-color: #AAA;\n",
              "      --disabled-bg-color: #DDD;\n",
              "  }\n",
              "\n",
              "  [theme=dark] .colab-df-quickchart {\n",
              "      --bg-color: #3B4455;\n",
              "      --fill-color: #D2E3FC;\n",
              "      --hover-bg-color: #434B5C;\n",
              "      --hover-fill-color: #FFFFFF;\n",
              "      --disabled-bg-color: #3B4455;\n",
              "      --disabled-fill-color: #666;\n",
              "  }\n",
              "\n",
              "  .colab-df-quickchart {\n",
              "    background-color: var(--bg-color);\n",
              "    border: none;\n",
              "    border-radius: 50%;\n",
              "    cursor: pointer;\n",
              "    display: none;\n",
              "    fill: var(--fill-color);\n",
              "    height: 32px;\n",
              "    padding: 0;\n",
              "    width: 32px;\n",
              "  }\n",
              "\n",
              "  .colab-df-quickchart:hover {\n",
              "    background-color: var(--hover-bg-color);\n",
              "    box-shadow: 0 1px 2px rgba(60, 64, 67, 0.3), 0 1px 3px 1px rgba(60, 64, 67, 0.15);\n",
              "    fill: var(--button-hover-fill-color);\n",
              "  }\n",
              "\n",
              "  .colab-df-quickchart-complete:disabled,\n",
              "  .colab-df-quickchart-complete:disabled:hover {\n",
              "    background-color: var(--disabled-bg-color);\n",
              "    fill: var(--disabled-fill-color);\n",
              "    box-shadow: none;\n",
              "  }\n",
              "\n",
              "  .colab-df-spinner {\n",
              "    border: 2px solid var(--fill-color);\n",
              "    border-color: transparent;\n",
              "    border-bottom-color: var(--fill-color);\n",
              "    animation:\n",
              "      spin 1s steps(1) infinite;\n",
              "  }\n",
              "\n",
              "  @keyframes spin {\n",
              "    0% {\n",
              "      border-color: transparent;\n",
              "      border-bottom-color: var(--fill-color);\n",
              "      border-left-color: var(--fill-color);\n",
              "    }\n",
              "    20% {\n",
              "      border-color: transparent;\n",
              "      border-left-color: var(--fill-color);\n",
              "      border-top-color: var(--fill-color);\n",
              "    }\n",
              "    30% {\n",
              "      border-color: transparent;\n",
              "      border-left-color: var(--fill-color);\n",
              "      border-top-color: var(--fill-color);\n",
              "      border-right-color: var(--fill-color);\n",
              "    }\n",
              "    40% {\n",
              "      border-color: transparent;\n",
              "      border-right-color: var(--fill-color);\n",
              "      border-top-color: var(--fill-color);\n",
              "    }\n",
              "    60% {\n",
              "      border-color: transparent;\n",
              "      border-right-color: var(--fill-color);\n",
              "    }\n",
              "    80% {\n",
              "      border-color: transparent;\n",
              "      border-right-color: var(--fill-color);\n",
              "      border-bottom-color: var(--fill-color);\n",
              "    }\n",
              "    90% {\n",
              "      border-color: transparent;\n",
              "      border-bottom-color: var(--fill-color);\n",
              "    }\n",
              "  }\n",
              "</style>\n",
              "\n",
              "  <script>\n",
              "    async function quickchart(key) {\n",
              "      const quickchartButtonEl =\n",
              "        document.querySelector('#' + key + ' button');\n",
              "      quickchartButtonEl.disabled = true;  // To prevent multiple clicks.\n",
              "      quickchartButtonEl.classList.add('colab-df-spinner');\n",
              "      try {\n",
              "        const charts = await google.colab.kernel.invokeFunction(\n",
              "            'suggestCharts', [key], {});\n",
              "      } catch (error) {\n",
              "        console.error('Error during call to suggestCharts:', error);\n",
              "      }\n",
              "      quickchartButtonEl.classList.remove('colab-df-spinner');\n",
              "      quickchartButtonEl.classList.add('colab-df-quickchart-complete');\n",
              "    }\n",
              "    (() => {\n",
              "      let quickchartButtonEl =\n",
              "        document.querySelector('#df-0dcb3b56-9fb1-4e36-b1d8-80ada4aa0e41 button');\n",
              "      quickchartButtonEl.style.display =\n",
              "        google.colab.kernel.accessAllowed ? 'block' : 'none';\n",
              "    })();\n",
              "  </script>\n",
              "</div>\n",
              "\n",
              "    </div>\n",
              "  </div>\n"
            ],
            "application/vnd.google.colaboratory.intrinsic+json": {
              "type": "dataframe",
              "variable_name": "data"
            }
          },
          "metadata": {},
          "execution_count": 10
        }
      ]
    },
    {
      "cell_type": "markdown",
      "source": [
        "# **Menampilkan nilai yang hilang**"
      ],
      "metadata": {
        "id": "F_QIhklNHgnk"
      }
    },
    {
      "cell_type": "markdown",
      "source": [
        "Menampilkan kolom yang mengandung setidaknya satu nilai 0 (nol)."
      ],
      "metadata": {
        "id": "bKlAIfdPHmhS"
      }
    },
    {
      "cell_type": "code",
      "source": [
        "data.columns[data.isin([0]).any()]"
      ],
      "metadata": {
        "colab": {
          "base_uri": "https://localhost:8080/"
        },
        "id": "AOKrQEBQH2DO",
        "outputId": "fca18c4a-57c6-4841-8337-d4167b076b9d"
      },
      "execution_count": 11,
      "outputs": [
        {
          "output_type": "execute_result",
          "data": {
            "text/plain": [
              "Index(['UnitPrice'], dtype='object')"
            ]
          },
          "metadata": {},
          "execution_count": 11
        }
      ]
    },
    {
      "cell_type": "markdown",
      "source": [
        "Menampilkan kolom yang berisi setidaknya satu nilai yang hilang (NaN)"
      ],
      "metadata": {
        "id": "GucAnGnyH8XG"
      }
    },
    {
      "cell_type": "code",
      "source": [
        "data.columns[data.isna().any()]"
      ],
      "metadata": {
        "colab": {
          "base_uri": "https://localhost:8080/"
        },
        "id": "VWEP-FCcIGym",
        "outputId": "ec0e6506-4b11-4556-bbc5-70eff94b1b3a"
      },
      "execution_count": 12,
      "outputs": [
        {
          "output_type": "execute_result",
          "data": {
            "text/plain": [
              "Index(['Description', 'CustomerID'], dtype='object')"
            ]
          },
          "metadata": {},
          "execution_count": 12
        }
      ]
    },
    {
      "cell_type": "markdown",
      "source": [
        "Menampilkan jumlah nilai yang hilang (NaN) di setiap kolom DataFrame"
      ],
      "metadata": {
        "id": "uVgQWQWWIp_W"
      }
    },
    {
      "cell_type": "code",
      "source": [
        "data.isna().sum()"
      ],
      "metadata": {
        "colab": {
          "base_uri": "https://localhost:8080/",
          "height": 335
        },
        "id": "Ip0139YvItdy",
        "outputId": "6bea9c78-4d7c-4c48-a101-bfc5a01ede79"
      },
      "execution_count": 13,
      "outputs": [
        {
          "output_type": "execute_result",
          "data": {
            "text/plain": [
              "InvoiceNo           0\n",
              "StockCode           0\n",
              "Description      1454\n",
              "Quantity            0\n",
              "InvoiceDate         0\n",
              "UnitPrice           0\n",
              "CustomerID     135080\n",
              "Country             0\n",
              "dtype: int64"
            ],
            "text/html": [
              "<table border=\"1\" class=\"dataframe\">\n",
              "  <thead>\n",
              "    <tr style=\"text-align: right;\">\n",
              "      <th></th>\n",
              "      <th>0</th>\n",
              "    </tr>\n",
              "  </thead>\n",
              "  <tbody>\n",
              "    <tr>\n",
              "      <th>InvoiceNo</th>\n",
              "      <td>0</td>\n",
              "    </tr>\n",
              "    <tr>\n",
              "      <th>StockCode</th>\n",
              "      <td>0</td>\n",
              "    </tr>\n",
              "    <tr>\n",
              "      <th>Description</th>\n",
              "      <td>1454</td>\n",
              "    </tr>\n",
              "    <tr>\n",
              "      <th>Quantity</th>\n",
              "      <td>0</td>\n",
              "    </tr>\n",
              "    <tr>\n",
              "      <th>InvoiceDate</th>\n",
              "      <td>0</td>\n",
              "    </tr>\n",
              "    <tr>\n",
              "      <th>UnitPrice</th>\n",
              "      <td>0</td>\n",
              "    </tr>\n",
              "    <tr>\n",
              "      <th>CustomerID</th>\n",
              "      <td>135080</td>\n",
              "    </tr>\n",
              "    <tr>\n",
              "      <th>Country</th>\n",
              "      <td>0</td>\n",
              "    </tr>\n",
              "  </tbody>\n",
              "</table><br><label><b>dtype:</b> int64</label>"
            ]
          },
          "metadata": {},
          "execution_count": 13
        }
      ]
    },
    {
      "cell_type": "markdown",
      "source": [
        "# **Pembersihan data**"
      ],
      "metadata": {
        "id": "CUn54xeaIxqa"
      }
    },
    {
      "cell_type": "markdown",
      "source": [
        "Mengganti nilai 0 dengan mean"
      ],
      "metadata": {
        "id": "XWE5J_yzI9wP"
      }
    },
    {
      "cell_type": "code",
      "source": [
        "unit_price_mean = data['UnitPrice'].mean() #Menghitung mean di kolom 'UnitPrice'\n",
        "data['UnitPrice'] = data['UnitPrice'].replace(0, unit_price_mean)"
      ],
      "metadata": {
        "id": "JmCEAv5EJJ_c"
      },
      "execution_count": 14,
      "outputs": []
    },
    {
      "cell_type": "markdown",
      "source": [
        "Isi nilai yang hilang di kolom 'Deskripsi' dengan teks 'Deskripsi tidak tersedia'"
      ],
      "metadata": {
        "id": "3Q5kU1agJoOL"
      }
    },
    {
      "cell_type": "code",
      "source": [
        "data['Description'].fillna('Deskripsi tidak tersedia')\n",
        "data.isna().sum() # menampilkan berapa banyak nilai yang hilang yang tersisa di setiap kolom DataFrame"
      ],
      "metadata": {
        "colab": {
          "base_uri": "https://localhost:8080/",
          "height": 335
        },
        "id": "2zp9WJFCJxgd",
        "outputId": "33bcb12d-c8fb-4ff7-dc7f-899b3aa30ea9"
      },
      "execution_count": 15,
      "outputs": [
        {
          "output_type": "execute_result",
          "data": {
            "text/plain": [
              "InvoiceNo           0\n",
              "StockCode           0\n",
              "Description      1454\n",
              "Quantity            0\n",
              "InvoiceDate         0\n",
              "UnitPrice           0\n",
              "CustomerID     135080\n",
              "Country             0\n",
              "dtype: int64"
            ],
            "text/html": [
              "<table border=\"1\" class=\"dataframe\">\n",
              "  <thead>\n",
              "    <tr style=\"text-align: right;\">\n",
              "      <th></th>\n",
              "      <th>0</th>\n",
              "    </tr>\n",
              "  </thead>\n",
              "  <tbody>\n",
              "    <tr>\n",
              "      <th>InvoiceNo</th>\n",
              "      <td>0</td>\n",
              "    </tr>\n",
              "    <tr>\n",
              "      <th>StockCode</th>\n",
              "      <td>0</td>\n",
              "    </tr>\n",
              "    <tr>\n",
              "      <th>Description</th>\n",
              "      <td>1454</td>\n",
              "    </tr>\n",
              "    <tr>\n",
              "      <th>Quantity</th>\n",
              "      <td>0</td>\n",
              "    </tr>\n",
              "    <tr>\n",
              "      <th>InvoiceDate</th>\n",
              "      <td>0</td>\n",
              "    </tr>\n",
              "    <tr>\n",
              "      <th>UnitPrice</th>\n",
              "      <td>0</td>\n",
              "    </tr>\n",
              "    <tr>\n",
              "      <th>CustomerID</th>\n",
              "      <td>135080</td>\n",
              "    </tr>\n",
              "    <tr>\n",
              "      <th>Country</th>\n",
              "      <td>0</td>\n",
              "    </tr>\n",
              "  </tbody>\n",
              "</table><br><label><b>dtype:</b> int64</label>"
            ]
          },
          "metadata": {},
          "execution_count": 15
        }
      ]
    },
    {
      "cell_type": "markdown",
      "source": [
        "Mengubah kolom 'InvoiceDate' menjadi datetime"
      ],
      "metadata": {
        "id": "icQdhjN9KGCc"
      }
    },
    {
      "cell_type": "code",
      "source": [
        "data['InvoiceDate'] = pd.to_datetime(data['InvoiceDate'])\n",
        "data.info() # Menampilkan tipe data"
      ],
      "metadata": {
        "colab": {
          "base_uri": "https://localhost:8080/"
        },
        "id": "Twhl_HqEO6ob",
        "outputId": "9f596c10-ff63-4520-f462-c694914708b2"
      },
      "execution_count": 16,
      "outputs": [
        {
          "output_type": "stream",
          "name": "stdout",
          "text": [
            "<class 'pandas.core.frame.DataFrame'>\n",
            "RangeIndex: 541909 entries, 0 to 541908\n",
            "Data columns (total 8 columns):\n",
            " #   Column       Non-Null Count   Dtype         \n",
            "---  ------       --------------   -----         \n",
            " 0   InvoiceNo    541909 non-null  object        \n",
            " 1   StockCode    541909 non-null  object        \n",
            " 2   Description  540455 non-null  object        \n",
            " 3   Quantity     541909 non-null  int64         \n",
            " 4   InvoiceDate  541909 non-null  datetime64[ns]\n",
            " 5   UnitPrice    541909 non-null  float64       \n",
            " 6   CustomerID   406829 non-null  float64       \n",
            " 7   Country      541909 non-null  object        \n",
            "dtypes: datetime64[ns](1), float64(2), int64(1), object(4)\n",
            "memory usage: 33.1+ MB\n"
          ]
        }
      ]
    },
    {
      "cell_type": "markdown",
      "source": [
        "# **Analisis Penjualan dan Produk**"
      ],
      "metadata": {
        "id": "X89K5SA4PqPJ"
      }
    },
    {
      "cell_type": "markdown",
      "source": [
        "## Penjualan berdasarkan kategori produk"
      ],
      "metadata": {
        "id": "oGTtUWl1Q4RU"
      }
    },
    {
      "cell_type": "code",
      "source": [
        "sales_by_product = data.groupby('Description')['Quantity'].sum().sort_values(ascending=False).head(10)\n",
        "\n",
        "plt.figure(figsize=(10,6))\n",
        "sns.barplot(x=sales_by_product.values, y=sales_by_product.index, palette='viridis')\n",
        "plt.xlabel('Quantity Sold')\n",
        "plt.ylabel('Product')\n",
        "plt.title('Top 10 Products by Sales')\n",
        "plt.show()"
      ],
      "metadata": {
        "colab": {
          "base_uri": "https://localhost:8080/",
          "height": 564
        },
        "id": "8LFn9lKYP2Y9",
        "outputId": "97cf2e18-72b6-4211-ff63-ccec26435214"
      },
      "execution_count": 17,
      "outputs": [
        {
          "output_type": "display_data",
          "data": {
            "text/plain": [
              "<Figure size 1000x600 with 1 Axes>"
            ],
            "image/png": "[encoded data removed]"
          },
          "metadata": {}
        }
      ]
    },
    {
      "cell_type": "markdown",
      "source": [
        "### 1. Produk Terlaris:\n",
        "**\"WORLD WAR 2 GLIDERS ASSTD DESIGNS\"** dan **\"JUMBO BAG RED RETROSPOT\"** adalah dua produk terlaris, menunjukkan permintaan tinggi untuk barang-barang ini.\n",
        "\n",
        "### 2. Volume Penjualan Signifikan:\n",
        "Produk-produk ini telah terjual dalam jumlah yang jauh lebih besar dibandingkan dengan produk lainnya, mengindikasikan popularitas yang tinggi di kalangan pelanggan.\n",
        "\n",
        "### 3. Ragam Produk:\n",
        "Daftar ini mencakup berbagai macam produk seperti ornamen, wadah, lampu malam, dan berbagai barang bertema, yang mencerminkan portofolio produk yang luas.\n",
        "\n",
        "### 4. Kategori Populer:\n",
        "Barang-barang yang berhubungan dengan desain retro dan tema unik (misalnya, **\"PACK OF 72 RETROSPOT CAKE CASES\"**) tampaknya memiliki performa baik, yang mungkin menunjukkan preferensi pelanggan terhadap barang-barang vintage atau unik.\n",
        "\n",
        "### 5. Implikasi Persediaan:\n",
        "Mengingat volume penjualan yang tinggi, disarankan untuk menjaga persediaan yang cukup untuk produk-produk yang berkinerja baik ini untuk memenuhi permintaan pelanggan dan menghindari kehabisan stok."
      ],
      "metadata": {
        "id": "kPluk0oeP6w2"
      }
    },
    {
      "cell_type": "markdown",
      "source": [
        "## Analisis Pendapatan berdasarkan Produk"
      ],
      "metadata": {
        "id": "WB7w4X3qQx0X"
      }
    },
    {
      "cell_type": "code",
      "source": [
        "data['TotalPrice'] = data['Quantity'] * data['UnitPrice']\n",
        "top_revenue_products = data.groupby('Description')['TotalPrice'].sum().sort_values(ascending=False).head(10)\n",
        "\n",
        "plt.figure(figsize=(10,6))\n",
        "sns.barplot(x=top_revenue_products.values, y=top_revenue_products.index, palette='viridis')\n",
        "plt.xlabel('Total Revenue')\n",
        "plt.ylabel('Product')\n",
        "plt.title('Top 10 Products by Revenue')\n",
        "plt.show()"
      ],
      "metadata": {
        "colab": {
          "base_uri": "https://localhost:8080/",
          "height": 564
        },
        "id": "8LbPjC1xRJJU",
        "outputId": "33c94b0b-3f2d-4d0a-cc8a-6fc95ec0484b"
      },
      "execution_count": 18,
      "outputs": [
        {
          "output_type": "display_data",
          "data": {
            "text/plain": [
              "<Figure size 1000x600 with 1 Axes>"
            ],
            "image/png": "[encoded data removed]"
          },
          "metadata": {}
        }
      ]
    },
    {
      "cell_type": "markdown",
      "source": [
        "### 1. Produk dengan Pendapatan Tertinggi:\n",
        "**DOTCOM POSTAGE** adalah produk dengan pendapatan tertinggi, dengan total pendapatan yang jauh melampaui produk lainnya.\n",
        "**REGENCY CAKESTAND 3 TIER** berada di urutan kedua dengan pendapatan yang juga signifikan.\n",
        "\n",
        "### 2. Produk Lainnya dengan Pendapatan Tinggi:\n",
        "Produk seperti **WHITE HANGING HEART T-LIGHT HOLDER**, **PARTY BUNTING**, dan **JUMBO BAG RED RETROSPOT** termasuk dalam kategori produk dengan pendapatan tinggi, meskipun tidak setinggi dua produk teratas.\n",
        "\n",
        "### 3. Ragam Produk yang Menghasilkan Pendapatan:\n",
        "Produk dengan berbagai macam jenis, mulai dari dekorasi rumah (seperti **WHITE HANGING HEART T-LIGHT HOLDER dan PARTY BUNTING**), peralatan pesta (seperti **PAPER CHAIN KIT 50'S CHRISTMAS**), hingga barang kebutuhan khusus (seperti **RABBIT NIGHT LIGHT**), semuanya menyumbang pendapatan yang signifikan.\n",
        "\n",
        "### 4. Distribusi Pendapatan:\n",
        "Pendapatan cenderung terdistribusi dengan baik di antara berbagai jenis produk, menunjukkan diversifikasi yang baik dalam portofolio produk.\n",
        "\n",
        "### 5. Peluang Peningkatan:\n",
        "Produk dengan pendapatan lebih rendah dalam daftar top 10, seperti **ASSORTED COLOUR BIRD ORNAMENT dan CHILLI LIGHTS**, mungkin memiliki potensi untuk ditingkatkan baik dari segi pemasaran maupun strategi penjualan."
      ],
      "metadata": {
        "id": "wozhstkYRREs"
      }
    },
    {
      "cell_type": "markdown",
      "source": [
        "# Tren Musiman"
      ],
      "metadata": {
        "id": "0UYQq3o7TFNk"
      }
    },
    {
      "cell_type": "markdown",
      "source": [
        "## Analisis Penjualan Bulanan"
      ],
      "metadata": {
        "id": "UsvSxsEDTrI1"
      }
    },
    {
      "cell_type": "code",
      "source": [
        "data['YearMonth'] = data['InvoiceDate'].dt.to_period('M')\n",
        "monthly_sales = data.groupby('YearMonth').size()\n",
        "\n",
        "plt.figure(figsize=(12, 6))\n",
        "monthly_sales.plot(marker='o')\n",
        "plt.xlabel('Bulan')\n",
        "plt.ylabel('Jumlah Transaksi')\n",
        "plt.title('Penjualan berdasarkan Bulan dalam Setahun')\n",
        "plt.grid(True)\n",
        "plt.show()"
      ],
      "metadata": {
        "colab": {
          "base_uri": "https://localhost:8080/",
          "height": 580
        },
        "id": "wzubxEfSThuI",
        "outputId": "5087de28-df0c-48d4-86a9-277a0b9f3516"
      },
      "execution_count": 19,
      "outputs": [
        {
          "output_type": "display_data",
          "data": {
            "text/plain": [
              "<Figure size 1200x600 with 1 Axes>"
            ],
            "image/png": "[encoded data removed]"
          },
          "metadata": {}
        }
      ]
    },
    {
      "cell_type": "markdown",
      "source": [
        "### 1. Peningkatan Signifikan di Bulan November:\n",
        "Terjadi lonjakan penjualan yang sangat signifikan pada bulan November, dengan jumlah transaksi mencapai puncaknya. Ini kemungkinan disebabkan oleh musim belanja akhir tahun, termasuk penjualan Black Friday dan persiapan untuk liburan Natal.\n",
        "\n",
        "### 2. Penurunan Drastis di Bulan Desember:\n",
        "Setelah puncak penjualan di bulan November, jumlah transaksi turun drastis di bulan Desember. Hal ini mungkin disebabkan oleh berakhirnya musim belanja liburan dan persediaan stok yang sudah dibeli di bulan sebelumnya.\n",
        "\n",
        "### 3. Stabilitas Penjualan di Bulan Lainnya:\n",
        "Sepanjang tahun, jumlah transaksi relatif stabil dengan beberapa fluktuasi kecil. Tidak ada lonjakan signifikan selain di bulan November.\n",
        "\n",
        "### 4. Tren Musiman:\n",
        "Data menunjukkan adanya tren musiman yang kuat, terutama terkait dengan belanja akhir tahun. Ini bisa dijadikan acuan untuk strategi pemasaran dan persiapan stok di masa mendatang.\n",
        "\n",
        "### 5. Strategi Bisnis:\n",
        "Untuk memaksimalkan pendapatan, perusahaan bisa memfokuskan strategi pemasaran dan promosi pada periode sebelum November. Menyiapkan stok yang cukup untuk menghadapi lonjakan permintaan juga menjadi kunci penting."
      ],
      "metadata": {
        "id": "qXI5htasUEN0"
      }
    },
    {
      "cell_type": "markdown",
      "source": [
        "## Analisis Penjualan Mingguan"
      ],
      "metadata": {
        "id": "dwcPWVATUfd5"
      }
    },
    {
      "cell_type": "code",
      "source": [
        "data['DayOfWeek'] = data['InvoiceDate'].dt.day_name()\n",
        "weekday_sales = data.groupby('DayOfWeek').size().reindex(['Monday', 'Tuesday', 'Wednesday', 'Thursday', 'Friday', 'Saturday', 'Sunday'])\n",
        "\n",
        "plt.figure(figsize=(10, 6))\n",
        "sns.barplot(x=weekday_sales.index, y=weekday_sales.values, palette='pastel')\n",
        "plt.xlabel('Hari')\n",
        "plt.ylabel('Jumlah Transaksi')\n",
        "plt.title('Penjualan berdasarkan Hari dalam Seminggu')\n",
        "plt.show()"
      ],
      "metadata": {
        "colab": {
          "base_uri": "https://localhost:8080/",
          "height": 564
        },
        "id": "Ug-tVsYuUlEm",
        "outputId": "e42e19c2-4e02-40e2-feb9-a16456d3f5be"
      },
      "execution_count": 20,
      "outputs": [
        {
          "output_type": "display_data",
          "data": {
            "text/plain": [
              "<Figure size 1000x600 with 1 Axes>"
            ],
            "image/png": "[encoded data removed]"
          },
          "metadata": {}
        }
      ]
    },
    {
      "cell_type": "markdown",
      "source": [
        "### 1. Hari dengan Penjualan Tertinggi:\n",
        "Penjualan tertinggi terjadi pada hari Selasa dan Kamis. Kedua hari ini memiliki jumlah transaksi yang hampir sama, dan keduanya lebih tinggi dibandingkan hari-hari lainnya.\n",
        "\n",
        "### 2. Hari dengan Penjualan Terendah:\n",
        "Penjualan terendah terjadi pada hari Minggu. Ini menunjukkan bahwa aktivitas penjualan berkurang signifikan pada hari tersebut.\n",
        "\n",
        "### 3. Distribusi Penjualan di Hari Kerja:\n",
        "Secara umum, penjualan cenderung tinggi dari Senin hingga Kamis, dengan sedikit penurunan pada hari Jumat.\n",
        "\n",
        "### 4. Penurunan di Akhir Pekan:\n",
        "Terdapat penurunan yang jelas dalam jumlah transaksi pada akhir pekan (Sabtu dan Minggu) dibandingkan dengan hari kerja."
      ],
      "metadata": {
        "id": "KUUS1sLQV15q"
      }
    },
    {
      "cell_type": "markdown",
      "source": [
        "# Forecasting"
      ],
      "metadata": {
        "id": "dH3-QMaJomEJ"
      }
    },
    {
      "cell_type": "markdown",
      "source": [
        "## Persiapan Data"
      ],
      "metadata": {
        "id": "sJ8IND3Z-Mv8"
      }
    },
    {
      "cell_type": "code",
      "source": [
        "cancelled = pd.Series(np.where(data.InvoiceNo.apply(lambda l: l[0]==\"C\"), 'Canceled', 'Not Canceled'))"
      ],
      "metadata": {
        "id": "OcEY--OD1gGN"
      },
      "execution_count": 21,
      "outputs": []
    },
    {
      "cell_type": "code",
      "source": [
        "def remove_outliers(column):\n",
        "    Q1 = column.quantile(.25)\n",
        "    Q3 = column.quantile(.75)\n",
        "    IQR = Q3 - Q1\n",
        "    column = column[((Q1 - 1.5 * IQR) <= column) & (column  <= (Q3 + 1.5 * IQR))]\n",
        "    return column\n",
        "\n",
        "data.Quantity = remove_outliers(data.Quantity)\n",
        "data.UnitPrice = remove_outliers(data.UnitPrice)"
      ],
      "metadata": {
        "id": "vBjbY1Vg14vo"
      },
      "execution_count": 22,
      "outputs": []
    },
    {
      "cell_type": "code",
      "source": [
        "data.dropna(subset=['Quantity','UnitPrice'],inplace=True)\n",
        "data['Revenue'] = data.Quantity * data.UnitPrice\n",
        "data = data[data.Revenue>0.1]"
      ],
      "metadata": {
        "id": "1Ewjd6ch2GiB"
      },
      "execution_count": 23,
      "outputs": []
    },
    {
      "cell_type": "code",
      "source": [
        "cancelled = pd.Series(np.where(data.InvoiceNo.apply(lambda l: l[0]==\"C\"), 'Cancelled', 'Not Cancelled'))"
      ],
      "metadata": {
        "id": "Am8uGRz02Nt5"
      },
      "execution_count": 24,
      "outputs": []
    },
    {
      "cell_type": "code",
      "source": [
        "data[\"InvoiceDate\"] = pd.to_datetime(data.InvoiceDate, cache=True)"
      ],
      "metadata": {
        "id": "2BhCsTox2SmH"
      },
      "execution_count": 25,
      "outputs": []
    },
    {
      "cell_type": "code",
      "source": [
        "data['InvoiceDate'] = data['InvoiceDate'].dt.date\n",
        "ddate = data[['InvoiceDate','Revenue']].groupby('InvoiceDate').sum()\n",
        "\n",
        "revenue_moving_average = ddate.rolling(\n",
        "    window=150,\n",
        "    center=True,\n",
        "    min_periods=75,\n",
        ").mean()"
      ],
      "metadata": {
        "id": "oNu9-MI72XeE"
      },
      "execution_count": 26,
      "outputs": []
    },
    {
      "cell_type": "code",
      "source": [
        "data['monthday'] = pd.to_datetime(data['InvoiceDate']).dt.day\n",
        "ddate = data[['monthday','Revenue']].groupby('monthday').sum()"
      ],
      "metadata": {
        "id": "sdeeSV_J2oLW"
      },
      "execution_count": 27,
      "outputs": []
    },
    {
      "cell_type": "code",
      "source": [
        "data['weakday'] = pd.to_datetime(data['InvoiceDate']).dt.dayofweek\n",
        "ddate = data[['weakday','Revenue']].groupby('weakday').sum()"
      ],
      "metadata": {
        "id": "HCTiSvKP2yTC"
      },
      "execution_count": 28,
      "outputs": []
    },
    {
      "cell_type": "code",
      "source": [
        "crdata = data[['Country','Revenue']].groupby('Country').mean().sort_values(by = 'Revenue', ascending = False)"
      ],
      "metadata": {
        "id": "zJngJVLH22Mm"
      },
      "execution_count": 29,
      "outputs": []
    },
    {
      "cell_type": "code",
      "source": [
        "isnull = data.isnull().sum().sort_values(ascending=False).to_frame()\n",
        "isnull.columns = ['How_many']\n",
        "isnull['precentage'] = np.around(((isnull / len(data) * 100)[(isnull / len(data) * 100) != 0]), decimals=2)"
      ],
      "metadata": {
        "id": "kd244u0T3Dbb"
      },
      "execution_count": 30,
      "outputs": []
    },
    {
      "cell_type": "code",
      "source": [
        "data.loc[data.Description.isnull()==False,'Description'].apply(\n",
        "    lambda s: np.where(\"nan\" in s.lower(), True, False)\n",
        "    ).value_counts()"
      ],
      "metadata": {
        "colab": {
          "base_uri": "https://localhost:8080/",
          "height": 178
        },
        "id": "UUtW6B783HeI",
        "outputId": "9176a7da-eb55-4ce8-ff9b-121ac6603b3a"
      },
      "execution_count": 31,
      "outputs": [
        {
          "output_type": "execute_result",
          "data": {
            "text/plain": [
              "Description\n",
              "False    435962\n",
              "True        671\n",
              "Name: count, dtype: int64"
            ],
            "text/html": [
              "<table border=\"1\" class=\"dataframe\">\n",
              "  <thead>\n",
              "    <tr style=\"text-align: right;\">\n",
              "      <th></th>\n",
              "      <th>count</th>\n",
              "    </tr>\n",
              "    <tr>\n",
              "      <th>Description</th>\n",
              "      <th></th>\n",
              "    </tr>\n",
              "  </thead>\n",
              "  <tbody>\n",
              "    <tr>\n",
              "      <th>False</th>\n",
              "      <td>435962</td>\n",
              "    </tr>\n",
              "    <tr>\n",
              "      <th>True</th>\n",
              "      <td>671</td>\n",
              "    </tr>\n",
              "  </tbody>\n",
              "</table><br><label><b>dtype:</b> int64</label>"
            ]
          },
          "metadata": {},
          "execution_count": 31
        }
      ]
    },
    {
      "cell_type": "code",
      "source": [
        "data.loc[data.Description.isnull()==False,'Description'] = data.loc[\n",
        "    data.Description.isnull()==False,'Description'].apply(lambda s: np.where(\"nan\" in s.lower(), np.nan, s))"
      ],
      "metadata": {
        "id": "daccyGJF3Mni"
      },
      "execution_count": 32,
      "outputs": []
    },
    {
      "cell_type": "code",
      "source": [
        "data = data[(data.CustomerID.isnull()==False) & (data.Description.isnull()==False)].copy()"
      ],
      "metadata": {
        "id": "NYmtLc-p3OEi"
      },
      "execution_count": 33,
      "outputs": []
    },
    {
      "cell_type": "code",
      "source": [
        "d = data.groupby('Description').size().to_frame().reset_index().sort_values(by=0,ascending=False).head(25)"
      ],
      "metadata": {
        "id": "BQ33jOlm3Sxt"
      },
      "execution_count": 34,
      "outputs": []
    },
    {
      "cell_type": "code",
      "source": [
        "def count_numeric_chars(l):\n",
        "    return sum(1 for c in l if c.isdigit())\n",
        "\n",
        "data[\"StockCodeLength\"] = data.StockCode.apply(lambda l: len(l))\n",
        "data[\"nNumericStockCode\"] = data.StockCode.apply(lambda l: count_numeric_chars(l))\n",
        "data = data.loc[(data.nNumericStockCode == 5) & (data.StockCodeLength==5)].copy()"
      ],
      "metadata": {
        "id": "ut6Mm0kk3T0Q"
      },
      "execution_count": 35,
      "outputs": []
    },
    {
      "cell_type": "code",
      "source": [
        "data[\"InvoiceDate\"] = pd.to_datetime(data.InvoiceDate, cache=True)\n",
        "data[\"Year\"] = data.InvoiceDate.dt.year\n",
        "data[\"Quarter\"] = data.InvoiceDate.dt.quarter\n",
        "data[\"Month\"] = data.InvoiceDate.dt.month\n",
        "data[\"Week\"] = data.InvoiceDate.dt.isocalendar().week\n",
        "data[\"Weekday\"] = data.InvoiceDate.dt.weekday\n",
        "data[\"Day\"] = data.InvoiceDate.dt.day\n",
        "data[\"Dayofyear\"] = data.InvoiceDate.dt.dayofyear\n",
        "data[\"Date\"] = pd.to_datetime(data[['Year', 'Month', 'Day']])"
      ],
      "metadata": {
        "id": "x4EHdYxw3Yuu"
      },
      "execution_count": 36,
      "outputs": []
    },
    {
      "cell_type": "code",
      "source": [
        "grouped_features = [\"Date\", \"Year\", \"Quarter\",\"Month\", \"Week\", \"Weekday\", \"Dayofyear\", \"Day\",\n",
        "                    \"StockCode\"]\n",
        "daily_data = pd.DataFrame(data.groupby(grouped_features).Quantity.sum(),\n",
        "                          columns=[\"Quantity\"])\n",
        "daily_data[\"Revenue\"] = data.groupby(grouped_features).Revenue.sum()\n",
        "daily_data = daily_data.reset_index()\n",
        "daily_data.head(5)"
      ],
      "metadata": {
        "colab": {
          "base_uri": "https://localhost:8080/",
          "height": 206
        },
        "id": "zCBVVHMH3eUE",
        "outputId": "71f18a7f-b411-4e96-c78f-4ed162883ab9"
      },
      "execution_count": 37,
      "outputs": [
        {
          "output_type": "execute_result",
          "data": {
            "text/plain": [
              "        Date  Year  Quarter  Month  Week  Weekday  Dayofyear  Day StockCode  \\\n",
              "0 2010-12-01  2010        4     12    48        2        335    1     10002   \n",
              "1 2010-12-01  2010        4     12    48        2        335    1     10125   \n",
              "2 2010-12-01  2010        4     12    48        2        335    1     10133   \n",
              "3 2010-12-01  2010        4     12    48        2        335    1     16014   \n",
              "4 2010-12-01  2010        4     12    48        2        335    1     16016   \n",
              "\n",
              "   Quantity  Revenue  \n",
              "0     12.00    10.20  \n",
              "1      2.00     1.70  \n",
              "2      5.00     4.25  \n",
              "3     10.00     4.20  \n",
              "4     10.00     8.50  "
            ],
            "text/html": [
              "\n",
              "  <div id=\"df-bdaf5b54-68df-41c3-9c39-8d5ab7bdbc18\" class=\"colab-df-container\">\n",
              "    <div>\n",
              "<style scoped>\n",
              "    .dataframe tbody tr th:only-of-type {\n",
              "        vertical-align: middle;\n",
              "    }\n",
              "\n",
              "    .dataframe tbody tr th {\n",
              "        vertical-align: top;\n",
              "    }\n",
              "\n",
              "    .dataframe thead th {\n",
              "        text-align: right;\n",
              "    }\n",
              "</style>\n",
              "<table border=\"1\" class=\"dataframe\">\n",
              "  <thead>\n",
              "    <tr style=\"text-align: right;\">\n",
              "      <th></th>\n",
              "      <th>Date</th>\n",
              "      <th>Year</th>\n",
              "      <th>Quarter</th>\n",
              "      <th>Month</th>\n",
              "      <th>Week</th>\n",
              "      <th>Weekday</th>\n",
              "      <th>Dayofyear</th>\n",
              "      <th>Day</th>\n",
              "      <th>StockCode</th>\n",
              "      <th>Quantity</th>\n",
              "      <th>Revenue</th>\n",
              "    </tr>\n",
              "  </thead>\n",
              "  <tbody>\n",
              "    <tr>\n",
              "      <th>0</th>\n",
              "      <td>2010-12-01</td>\n",
              "      <td>2010</td>\n",
              "      <td>4</td>\n",
              "      <td>12</td>\n",
              "      <td>48</td>\n",
              "      <td>2</td>\n",
              "      <td>335</td>\n",
              "      <td>1</td>\n",
              "      <td>10002</td>\n",
              "      <td>12.00</td>\n",
              "      <td>10.20</td>\n",
              "    </tr>\n",
              "    <tr>\n",
              "      <th>1</th>\n",
              "      <td>2010-12-01</td>\n",
              "      <td>2010</td>\n",
              "      <td>4</td>\n",
              "      <td>12</td>\n",
              "      <td>48</td>\n",
              "      <td>2</td>\n",
              "      <td>335</td>\n",
              "      <td>1</td>\n",
              "      <td>10125</td>\n",
              "      <td>2.00</td>\n",
              "      <td>1.70</td>\n",
              "    </tr>\n",
              "    <tr>\n",
              "      <th>2</th>\n",
              "      <td>2010-12-01</td>\n",
              "      <td>2010</td>\n",
              "      <td>4</td>\n",
              "      <td>12</td>\n",
              "      <td>48</td>\n",
              "      <td>2</td>\n",
              "      <td>335</td>\n",
              "      <td>1</td>\n",
              "      <td>10133</td>\n",
              "      <td>5.00</td>\n",
              "      <td>4.25</td>\n",
              "    </tr>\n",
              "    <tr>\n",
              "      <th>3</th>\n",
              "      <td>2010-12-01</td>\n",
              "      <td>2010</td>\n",
              "      <td>4</td>\n",
              "      <td>12</td>\n",
              "      <td>48</td>\n",
              "      <td>2</td>\n",
              "      <td>335</td>\n",
              "      <td>1</td>\n",
              "      <td>16014</td>\n",
              "      <td>10.00</td>\n",
              "      <td>4.20</td>\n",
              "    </tr>\n",
              "    <tr>\n",
              "      <th>4</th>\n",
              "      <td>2010-12-01</td>\n",
              "      <td>2010</td>\n",
              "      <td>4</td>\n",
              "      <td>12</td>\n",
              "      <td>48</td>\n",
              "      <td>2</td>\n",
              "      <td>335</td>\n",
              "      <td>1</td>\n",
              "      <td>16016</td>\n",
              "      <td>10.00</td>\n",
              "      <td>8.50</td>\n",
              "    </tr>\n",
              "  </tbody>\n",
              "</table>\n",
              "</div>\n",
              "    <div class=\"colab-df-buttons\">\n",
              "\n",
              "  <div class=\"colab-df-container\">\n",
              "    <button class=\"colab-df-convert\" onclick=\"convertToInteractive('df-bdaf5b54-68df-41c3-9c39-8d5ab7bdbc18')\"\n",
              "            title=\"Convert this dataframe to an interactive table.\"\n",
              "            style=\"display:none;\">\n",
              "\n",
              "  <svg xmlns=\"http://www.w3.org/2000/svg\" height=\"24px\" viewBox=\"0 -960 960 960\">\n",
              "    <path d=\"M120-120v-720h720v720H120Zm60-500h600v-160H180v160Zm220 220h160v-160H400v160Zm0 220h160v-160H400v160ZM180-400h160v-160H180v160Zm440 0h160v-160H620v160ZM180-180h160v-160H180v160Zm440 0h160v-160H620v160Z\"/>\n",
              "  </svg>\n",
              "    </button>\n",
              "\n",
              "  <style>\n",
              "    .colab-df-container {\n",
              "      display:flex;\n",
              "      gap: 12px;\n",
              "    }\n",
              "\n",
              "    .colab-df-convert {\n",
              "      background-color: #E8F0FE;\n",
              "      border: none;\n",
              "      border-radius: 50%;\n",
              "      cursor: pointer;\n",
              "      display: none;\n",
              "      fill: #1967D2;\n",
              "      height: 32px;\n",
              "      padding: 0 0 0 0;\n",
              "      width: 32px;\n",
              "    }\n",
              "\n",
              "    .colab-df-convert:hover {\n",
              "      background-color: #E2EBFA;\n",
              "      box-shadow: 0px 1px 2px rgba(60, 64, 67, 0.3), 0px 1px 3px 1px rgba(60, 64, 67, 0.15);\n",
              "      fill: #174EA6;\n",
              "    }\n",
              "\n",
              "    .colab-df-buttons div {\n",
              "      margin-bottom: 4px;\n",
              "    }\n",
              "\n",
              "    [theme=dark] .colab-df-convert {\n",
              "      background-color: #3B4455;\n",
              "      fill: #D2E3FC;\n",
              "    }\n",
              "\n",
              "    [theme=dark] .colab-df-convert:hover {\n",
              "      background-color: #434B5C;\n",
              "      box-shadow: 0px 1px 3px 1px rgba(0, 0, 0, 0.15);\n",
              "      filter: drop-shadow(0px 1px 2px rgba(0, 0, 0, 0.3));\n",
              "      fill: #FFFFFF;\n",
              "    }\n",
              "  </style>\n",
              "\n",
              "    <script>\n",
              "      const buttonEl =\n",
              "        document.querySelector('#df-bdaf5b54-68df-41c3-9c39-8d5ab7bdbc18 button.colab-df-convert');\n",
              "      buttonEl.style.display =\n",
              "        google.colab.kernel.accessAllowed ? 'block' : 'none';\n",
              "\n",
              "      async function convertToInteractive(key) {\n",
              "        const element = document.querySelector('#df-bdaf5b54-68df-41c3-9c39-8d5ab7bdbc18');\n",
              "        const dataTable =\n",
              "          await google.colab.kernel.invokeFunction('convertToInteractive',\n",
              "                                                    [key], {});\n",
              "        if (!dataTable) return;\n",
              "\n",
              "        const docLinkHtml = 'Like what you see? Visit the ' +\n",
              "          '<a target=\"_blank\" href=https://colab.research.google.com/notebooks/data_table.ipynb>data table notebook</a>'\n",
              "          + ' to learn more about interactive tables.';\n",
              "        element.innerHTML = '';\n",
              "        dataTable['output_type'] = 'display_data';\n",
              "        await google.colab.output.renderOutput(dataTable, element);\n",
              "        const docLink = document.createElement('div');\n",
              "        docLink.innerHTML = docLinkHtml;\n",
              "        element.appendChild(docLink);\n",
              "      }\n",
              "    </script>\n",
              "  </div>\n",
              "\n",
              "\n",
              "<div id=\"df-eccc9a6b-912f-493c-860a-cd3aae7a2bb5\">\n",
              "  <button class=\"colab-df-quickchart\" onclick=\"quickchart('df-eccc9a6b-912f-493c-860a-cd3aae7a2bb5')\"\n",
              "            title=\"Suggest charts\"\n",
              "            style=\"display:none;\">\n",
              "\n",
              "<svg xmlns=\"http://www.w3.org/2000/svg\" height=\"24px\"viewBox=\"0 0 24 24\"\n",
              "     width=\"24px\">\n",
              "    <g>\n",
              "        <path d=\"M19 3H5c-1.1 0-2 .9-2 2v14c0 1.1.9 2 2 2h14c1.1 0 2-.9 2-2V5c0-1.1-.9-2-2-2zM9 17H7v-7h2v7zm4 0h-2V7h2v10zm4 0h-2v-4h2v4z\"/>\n",
              "    </g>\n",
              "</svg>\n",
              "  </button>\n",
              "\n",
              "<style>\n",
              "  .colab-df-quickchart {\n",
              "      --bg-color: #E8F0FE;\n",
              "      --fill-color: #1967D2;\n",
              "      --hover-bg-color: #E2EBFA;\n",
              "      --hover-fill-color: #174EA6;\n",
              "      --disabled-fill-color: #AAA;\n",
              "      --disabled-bg-color: #DDD;\n",
              "  }\n",
              "\n",
              "  [theme=dark] .colab-df-quickchart {\n",
              "      --bg-color: #3B4455;\n",
              "      --fill-color: #D2E3FC;\n",
              "      --hover-bg-color: #434B5C;\n",
              "      --hover-fill-color: #FFFFFF;\n",
              "      --disabled-bg-color: #3B4455;\n",
              "      --disabled-fill-color: #666;\n",
              "  }\n",
              "\n",
              "  .colab-df-quickchart {\n",
              "    background-color: var(--bg-color);\n",
              "    border: none;\n",
              "    border-radius: 50%;\n",
              "    cursor: pointer;\n",
              "    display: none;\n",
              "    fill: var(--fill-color);\n",
              "    height: 32px;\n",
              "    padding: 0;\n",
              "    width: 32px;\n",
              "  }\n",
              "\n",
              "  .colab-df-quickchart:hover {\n",
              "    background-color: var(--hover-bg-color);\n",
              "    box-shadow: 0 1px 2px rgba(60, 64, 67, 0.3), 0 1px 3px 1px rgba(60, 64, 67, 0.15);\n",
              "    fill: var(--button-hover-fill-color);\n",
              "  }\n",
              "\n",
              "  .colab-df-quickchart-complete:disabled,\n",
              "  .colab-df-quickchart-complete:disabled:hover {\n",
              "    background-color: var(--disabled-bg-color);\n",
              "    fill: var(--disabled-fill-color);\n",
              "    box-shadow: none;\n",
              "  }\n",
              "\n",
              "  .colab-df-spinner {\n",
              "    border: 2px solid var(--fill-color);\n",
              "    border-color: transparent;\n",
              "    border-bottom-color: var(--fill-color);\n",
              "    animation:\n",
              "      spin 1s steps(1) infinite;\n",
              "  }\n",
              "\n",
              "  @keyframes spin {\n",
              "    0% {\n",
              "      border-color: transparent;\n",
              "      border-bottom-color: var(--fill-color);\n",
              "      border-left-color: var(--fill-color);\n",
              "    }\n",
              "    20% {\n",
              "      border-color: transparent;\n",
              "      border-left-color: var(--fill-color);\n",
              "      border-top-color: var(--fill-color);\n",
              "    }\n",
              "    30% {\n",
              "      border-color: transparent;\n",
              "      border-left-color: var(--fill-color);\n",
              "      border-top-color: var(--fill-color);\n",
              "      border-right-color: var(--fill-color);\n",
              "    }\n",
              "    40% {\n",
              "      border-color: transparent;\n",
              "      border-right-color: var(--fill-color);\n",
              "      border-top-color: var(--fill-color);\n",
              "    }\n",
              "    60% {\n",
              "      border-color: transparent;\n",
              "      border-right-color: var(--fill-color);\n",
              "    }\n",
              "    80% {\n",
              "      border-color: transparent;\n",
              "      border-right-color: var(--fill-color);\n",
              "      border-bottom-color: var(--fill-color);\n",
              "    }\n",
              "    90% {\n",
              "      border-color: transparent;\n",
              "      border-bottom-color: var(--fill-color);\n",
              "    }\n",
              "  }\n",
              "</style>\n",
              "\n",
              "  <script>\n",
              "    async function quickchart(key) {\n",
              "      const quickchartButtonEl =\n",
              "        document.querySelector('#' + key + ' button');\n",
              "      quickchartButtonEl.disabled = true;  // To prevent multiple clicks.\n",
              "      quickchartButtonEl.classList.add('colab-df-spinner');\n",
              "      try {\n",
              "        const charts = await google.colab.kernel.invokeFunction(\n",
              "            'suggestCharts', [key], {});\n",
              "      } catch (error) {\n",
              "        console.error('Error during call to suggestCharts:', error);\n",
              "      }\n",
              "      quickchartButtonEl.classList.remove('colab-df-spinner');\n",
              "      quickchartButtonEl.classList.add('colab-df-quickchart-complete');\n",
              "    }\n",
              "    (() => {\n",
              "      let quickchartButtonEl =\n",
              "        document.querySelector('#df-eccc9a6b-912f-493c-860a-cd3aae7a2bb5 button');\n",
              "      quickchartButtonEl.style.display =\n",
              "        google.colab.kernel.accessAllowed ? 'block' : 'none';\n",
              "    })();\n",
              "  </script>\n",
              "</div>\n",
              "\n",
              "    </div>\n",
              "  </div>\n"
            ],
            "application/vnd.google.colaboratory.intrinsic+json": {
              "type": "dataframe",
              "variable_name": "daily_data"
            }
          },
          "metadata": {},
          "execution_count": 37
        }
      ]
    },
    {
      "cell_type": "code",
      "source": [
        "daily_data.Quantity = remove_outliers(daily_data.Quantity)\n",
        "daily_data.Revenue = remove_outliers(daily_data.Revenue)\n",
        "daily_data.dropna(inplace=True)"
      ],
      "metadata": {
        "id": "XwO9wnnD4goE"
      },
      "execution_count": 38,
      "outputs": []
    },
    {
      "cell_type": "markdown",
      "source": [
        "## Penetapan Data\n",
        "\n",
        "Model akan memprediksi Quantity, yang merupakan jumlah unit yang terjual setiap hari."
      ],
      "metadata": {
        "id": "xgsirfH6-dyN"
      }
    },
    {
      "cell_type": "code",
      "source": [
        "def show_me(date, true, preds):\n",
        "\n",
        "    fig = make_subplots(rows=1, cols=1)\n",
        "\n",
        "    fig.add_trace(go.Scatter(x=date, y=true.iloc[:,0], mode='lines',\n",
        "                         marker=dict(color= '#783242'), name='Original Data'))\n",
        "\n",
        "    fig.add_trace(go.Scatter(x=date,y=preds.iloc[:,0],mode='lines',name='Prediction'))\n",
        "\n",
        "    fig.show()"
      ],
      "metadata": {
        "id": "C7YtToWk_opy"
      },
      "execution_count": 39,
      "outputs": []
    },
    {
      "cell_type": "code",
      "source": [
        "X = daily_data.drop(['Date','Revenue','Quantity'],axis=1)\n",
        "y = daily_data.Quantity\n",
        "X_train, X_valid, y_train, y_valid = train_test_split(X,y,test_size=0.2, shuffle=False)"
      ],
      "metadata": {
        "id": "iUFokbVr4qvb"
      },
      "execution_count": 49,
      "outputs": []
    },
    {
      "cell_type": "markdown",
      "source": [
        "## KNeighborsRegressor Model"
      ],
      "metadata": {
        "id": "bsF2KEoS-hnx"
      }
    },
    {
      "cell_type": "code",
      "source": [
        "param_grid = {'n_neighbors':list(range(3,100,2))}\n",
        "m = KNeighborsRegressor()\n",
        "search = GridSearchCV(m, param_grid, cv=5)\n",
        "search.fit(X,y)\n",
        "search.best_estimator_"
      ],
      "metadata": {
        "colab": {
          "base_uri": "https://localhost:8080/",
          "height": 74
        },
        "id": "9jt2a80E4r1A",
        "outputId": "31b44b71-5783-434a-8d2b-7060908c3ea2"
      },
      "execution_count": 42,
      "outputs": [
        {
          "output_type": "execute_result",
          "data": {
            "text/plain": [
              "KNeighborsRegressor(n_neighbors=47)"
            ],
            "text/html": [
              "<style>#sk-container-id-1 {color: black;}#sk-container-id-1 pre{padding: 0;}#sk-container-id-1 div.sk-toggleable {background-color: white;}#sk-container-id-1 label.sk-toggleable__label {cursor: pointer;display: block;width: 100%;margin-bottom: 0;padding: 0.3em;box-sizing: border-box;text-align: center;}#sk-container-id-1 label.sk-toggleable__label-arrow:before {content: \"▸\";float: left;margin-right: 0.25em;color: #696969;}#sk-container-id-1 label.sk-toggleable__label-arrow:hover:before {color: black;}#sk-container-id-1 div.sk-estimator:hover label.sk-toggleable__label-arrow:before {color: black;}#sk-container-id-1 div.sk-toggleable__content {max-height: 0;max-width: 0;overflow: hidden;text-align: left;background-color: #f0f8ff;}#sk-container-id-1 div.sk-toggleable__content pre {margin: 0.2em;color: black;border-radius: 0.25em;background-color: #f0f8ff;}#sk-container-id-1 input.sk-toggleable__control:checked~div.sk-toggleable__content {max-height: 200px;max-width: 100%;overflow: auto;}#sk-container-id-1 input.sk-toggleable__control:checked~label.sk-toggleable__label-arrow:before {content: \"▾\";}#sk-container-id-1 div.sk-estimator input.sk-toggleable__control:checked~label.sk-toggleable__label {background-color: #d4ebff;}#sk-container-id-1 div.sk-label input.sk-toggleable__control:checked~label.sk-toggleable__label {background-color: #d4ebff;}#sk-container-id-1 input.sk-hidden--visually {border: 0;clip: rect(1px 1px 1px 1px);clip: rect(1px, 1px, 1px, 1px);height: 1px;margin: -1px;overflow: hidden;padding: 0;position: absolute;width: 1px;}#sk-container-id-1 div.sk-estimator {font-family: monospace;background-color: #f0f8ff;border: 1px dotted black;border-radius: 0.25em;box-sizing: border-box;margin-bottom: 0.5em;}#sk-container-id-1 div.sk-estimator:hover {background-color: #d4ebff;}#sk-container-id-1 div.sk-parallel-item::after {content: \"\";width: 100%;border-bottom: 1px solid gray;flex-grow: 1;}#sk-container-id-1 div.sk-label:hover label.sk-toggleable__label {background-color: #d4ebff;}#sk-container-id-1 div.sk-serial::before {content: \"\";position: absolute;border-left: 1px solid gray;box-sizing: border-box;top: 0;bottom: 0;left: 50%;z-index: 0;}#sk-container-id-1 div.sk-serial {display: flex;flex-direction: column;align-items: center;background-color: white;padding-right: 0.2em;padding-left: 0.2em;position: relative;}#sk-container-id-1 div.sk-item {position: relative;z-index: 1;}#sk-container-id-1 div.sk-parallel {display: flex;align-items: stretch;justify-content: center;background-color: white;position: relative;}#sk-container-id-1 div.sk-item::before, #sk-container-id-1 div.sk-parallel-item::before {content: \"\";position: absolute;border-left: 1px solid gray;box-sizing: border-box;top: 0;bottom: 0;left: 50%;z-index: -1;}#sk-container-id-1 div.sk-parallel-item {display: flex;flex-direction: column;z-index: 1;position: relative;background-color: white;}#sk-container-id-1 div.sk-parallel-item:first-child::after {align-self: flex-end;width: 50%;}#sk-container-id-1 div.sk-parallel-item:last-child::after {align-self: flex-start;width: 50%;}#sk-container-id-1 div.sk-parallel-item:only-child::after {width: 0;}#sk-container-id-1 div.sk-dashed-wrapped {border: 1px dashed gray;margin: 0 0.4em 0.5em 0.4em;box-sizing: border-box;padding-bottom: 0.4em;background-color: white;}#sk-container-id-1 div.sk-label label {font-family: monospace;font-weight: bold;display: inline-block;line-height: 1.2em;}#sk-container-id-1 div.sk-label-container {text-align: center;}#sk-container-id-1 div.sk-container {/* jupyter's `normalize.less` sets `[hidden] { display: none; }` but bootstrap.min.css set `[hidden] { display: none !important; }` so we also need the `!important` here to be able to override the default hidden behavior on the sphinx rendered scikit-learn.org. See: https://github.com/scikit-learn/scikit-learn/issues/21755 */display: inline-block !important;position: relative;}#sk-container-id-1 div.sk-text-repr-fallback {display: none;}</style><div id=\"sk-container-id-1\" class=\"sk-top-container\"><div class=\"sk-text-repr-fallback\"><pre>KNeighborsRegressor(n_neighbors=47)</pre><b>In a Jupyter environment, please rerun this cell to show the HTML representation or trust the notebook. <br />On GitHub, the HTML representation is unable to render, please try loading this page with nbviewer.org.</b></div><div class=\"sk-container\" hidden><div class=\"sk-item\"><div class=\"sk-estimator sk-toggleable\"><input class=\"sk-toggleable__control sk-hidden--visually\" id=\"sk-estimator-id-1\" type=\"checkbox\" checked><label for=\"sk-estimator-id-1\" class=\"sk-toggleable__label sk-toggleable__label-arrow\">KNeighborsRegressor</label><div class=\"sk-toggleable__content\"><pre>KNeighborsRegressor(n_neighbors=47)</pre></div></div></div></div></div>"
            ]
          },
          "metadata": {},
          "execution_count": 42
        }
      ]
    },
    {
      "cell_type": "code",
      "source": [
        "KNR = KNeighborsRegressor(n_neighbors=47)\n",
        "KNR.fit(X_train,y_train)\n",
        "KNRforecast = KNR.predict(X_valid)\n",
        "f'mean squared error : {mean_squared_error(y_valid,KNRforecast)}'"
      ],
      "metadata": {
        "colab": {
          "base_uri": "https://localhost:8080/",
          "height": 36
        },
        "id": "VeF5GoCW6C-h",
        "outputId": "7d5d4c46-594c-4e21-ba9c-4e63e7f6c200"
      },
      "execution_count": 50,
      "outputs": [
        {
          "output_type": "execute_result",
          "data": {
            "text/plain": [
              "'mean squared error : 37.090801737952155'"
            ],
            "application/vnd.google.colaboratory.intrinsic+json": {
              "type": "string"
            }
          },
          "metadata": {},
          "execution_count": 50
        }
      ]
    },
    {
      "cell_type": "code",
      "source": [
        "X_valid['forecast'] = KNRforecast\n",
        "\n",
        "spliter = round(len(daily_data)*0.8)\n",
        "X_valid['Date'] = daily_data['Date'].iloc[spliter:]\n",
        "preds= X_valid[['Date','forecast']].groupby('Date').mean()\n",
        "true = daily_data[['Date','Quantity']].iloc[spliter:,:].groupby('Date').mean()\n",
        "\n",
        "show_me(true.index, true, preds)"
      ],
      "metadata": {
        "colab": {
          "base_uri": "https://localhost:8080/",
          "height": 542
        },
        "id": "AGrjjvc7_srs",
        "outputId": "56362a08-98ce-49a6-fb33-fd267c7318e2"
      },
      "execution_count": 51,
      "outputs": [
        {
          "output_type": "display_data",
          "data": {
            "text/html": [
              "<html>\n",
              "<head><meta charset=\"utf-8\" /></head>\n",
              "<body>\n",
              "    <div>            <script src=\"https://cdnjs.cloudflare.com/ajax/libs/mathjax/2.7.5/MathJax.js?config=TeX-AMS-MML_SVG\"></script><script type=\"text/javascript\">if (window.MathJax && window.MathJax.Hub && window.MathJax.Hub.Config) {window.MathJax.Hub.Config({SVG: {font: \"STIX-Web\"}});}</script>                <script type=\"text/javascript\">window.PlotlyConfig = {MathJaxConfig: 'local'};</script>\n",
              "        <script charset=\"utf-8\" src=\"https://cdn.plot.ly/plotly-2.24.1.min.js\"></script>                <div id=\"ae387de3-6a27-4e93-a357-c7f645176848\" class=\"plotly-graph-div\" style=\"height:525px; width:100%;\"></div>            <script type=\"text/javascript\">                                    window.PLOTLYENV=window.PLOTLYENV || {};                                    if (document.getElementById(\"ae387de3-6a27-4e93-a357-c7f645176848\")) {                    Plotly.newPlot(                        \"ae387de3-6a27-4e93-a357-c7f645176848\",                        [{\"marker\":{\"color\":\"#783242\"},\"mode\":\"lines\",\"name\":\"Original Data\",\"x\":[\"2011-10-24T00:00:00\",\"2011-10-25T00:00:00\",\"2011-10-26T00:00:00\",\"2011-10-27T00:00:00\",\"2011-10-28T00:00:00\",\"2011-10-30T00:00:00\",\"2011-10-31T00:00:00\",\"2011-11-01T00:00:00\",\"2011-11-02T00:00:00\",\"2011-11-03T00:00:00\",\"2011-11-04T00:00:00\",\"2011-11-06T00:00:00\",\"2011-11-07T00:00:00\",\"2011-11-08T00:00:00\",\"2011-11-09T00:00:00\",\"2011-11-10T00:00:00\",\"2011-11-11T00:00:00\",\"2011-11-13T00:00:00\",\"2011-11-14T00:00:00\",\"2011-11-15T00:00:00\",\"2011-11-16T00:00:00\",\"2011-11-17T00:00:00\",\"2011-11-18T00:00:00\",\"2011-11-20T00:00:00\",\"2011-11-21T00:00:00\",\"2011-11-22T00:00:00\",\"2011-11-23T00:00:00\",\"2011-11-24T00:00:00\",\"2011-11-25T00:00:00\",\"2011-11-27T00:00:00\",\"2011-11-28T00:00:00\",\"2011-11-29T00:00:00\",\"2011-11-30T00:00:00\",\"2011-12-01T00:00:00\",\"2011-12-02T00:00:00\",\"2011-12-04T00:00:00\",\"2011-12-05T00:00:00\",\"2011-12-06T00:00:00\",\"2011-12-07T00:00:00\",\"2011-12-08T00:00:00\",\"2011-12-09T00:00:00\"],\"y\":[6.709731543624161,7.950387596899224,7.676855895196507,8.54404945904173,7.552028218694885,7.4982415005861665,6.659029649595688,7.209030100334449,7.8771653543307085,8.3343653250774,7.996005326231691,7.522883295194508,7.122938530734633,7.455357142857143,8.611916264090176,8.134099616858238,8.552456839309428,7.451770451770452,6.8286358511837655,7.121985815602837,7.964131994261119,7.98719590268886,7.315712187958884,7.033254156769596,8.315186246418339,7.807361963190184,7.584862385321101,7.166237113402062,7.027355623100304,6.212716763005781,6.732362821948488,7.4019488428745435,8.40625,8.087579617834395,8.647058823529411,6.798200514138817,7.612377850162867,7.67948717948718,8.764240506329115,7.230569948186528,8.715827338129497],\"type\":\"scatter\"},{\"mode\":\"lines\",\"name\":\"Prediction\",\"x\":[\"2011-10-24T00:00:00\",\"2011-10-25T00:00:00\",\"2011-10-26T00:00:00\",\"2011-10-27T00:00:00\",\"2011-10-28T00:00:00\",\"2011-10-30T00:00:00\",\"2011-10-31T00:00:00\",\"2011-11-01T00:00:00\",\"2011-11-02T00:00:00\",\"2011-11-03T00:00:00\",\"2011-11-04T00:00:00\",\"2011-11-06T00:00:00\",\"2011-11-07T00:00:00\",\"2011-11-08T00:00:00\",\"2011-11-09T00:00:00\",\"2011-11-10T00:00:00\",\"2011-11-11T00:00:00\",\"2011-11-13T00:00:00\",\"2011-11-14T00:00:00\",\"2011-11-15T00:00:00\",\"2011-11-16T00:00:00\",\"2011-11-17T00:00:00\",\"2011-11-18T00:00:00\",\"2011-11-20T00:00:00\",\"2011-11-21T00:00:00\",\"2011-11-22T00:00:00\",\"2011-11-23T00:00:00\",\"2011-11-24T00:00:00\",\"2011-11-25T00:00:00\",\"2011-11-27T00:00:00\",\"2011-11-28T00:00:00\",\"2011-11-29T00:00:00\",\"2011-11-30T00:00:00\",\"2011-12-01T00:00:00\",\"2011-12-02T00:00:00\",\"2011-12-04T00:00:00\",\"2011-12-05T00:00:00\",\"2011-12-06T00:00:00\",\"2011-12-07T00:00:00\",\"2011-12-08T00:00:00\",\"2011-12-09T00:00:00\"],\"y\":[7.6412965871769245,7.614976084446644,7.5081916442132,7.493340787266928,7.573492438740666,7.472400289341747,7.579916270000574,8.334270262577386,7.897805327525549,7.75722943152625,7.632546675354846,7.382978723404255,7.561676608504259,7.566331053698075,7.61592489807106,7.538083204260754,7.479330903337007,7.331462863377757,7.389311329127587,7.600754489210804,7.597637290515584,7.492576347835563,7.665666885368825,7.489715469752868,7.645826982868987,7.571883566114084,7.456958813195394,7.432057468743145,7.510799974131799,7.418029762636822,7.498082009006218,7.46751496618032,7.490724734042553,7.793772868952433,7.8312634382722,7.6489088224033255,7.651142375308984,7.5186852154937265,7.600592512792891,7.437851394554074,7.660799020358183],\"type\":\"scatter\"}],                        {\"template\":{\"data\":{\"histogram2dcontour\":[{\"type\":\"histogram2dcontour\",\"colorbar\":{\"outlinewidth\":0,\"ticks\":\"\"},\"colorscale\":[[0.0,\"#0d0887\"],[0.1111111111111111,\"#46039f\"],[0.2222222222222222,\"#7201a8\"],[0.3333333333333333,\"#9c179e\"],[0.4444444444444444,\"#bd3786\"],[0.5555555555555556,\"#d8576b\"],[0.6666666666666666,\"#ed7953\"],[0.7777777777777778,\"#fb9f3a\"],[0.8888888888888888,\"#fdca26\"],[1.0,\"#f0f921\"]]}],\"choropleth\":[{\"type\":\"choropleth\",\"colorbar\":{\"outlinewidth\":0,\"ticks\":\"\"}}],\"histogram2d\":[{\"type\":\"histogram2d\",\"colorbar\":{\"outlinewidth\":0,\"ticks\":\"\"},\"colorscale\":[[0.0,\"#0d0887\"],[0.1111111111111111,\"#46039f\"],[0.2222222222222222,\"#7201a8\"],[0.3333333333333333,\"#9c179e\"],[0.4444444444444444,\"#bd3786\"],[0.5555555555555556,\"#d8576b\"],[0.6666666666666666,\"#ed7953\"],[0.7777777777777778,\"#fb9f3a\"],[0.8888888888888888,\"#fdca26\"],[1.0,\"#f0f921\"]]}],\"heatmap\":[{\"type\":\"heatmap\",\"colorbar\":{\"outlinewidth\":0,\"ticks\":\"\"},\"colorscale\":[[0.0,\"#0d0887\"],[0.1111111111111111,\"#46039f\"],[0.2222222222222222,\"#7201a8\"],[0.3333333333333333,\"#9c179e\"],[0.4444444444444444,\"#bd3786\"],[0.5555555555555556,\"#d8576b\"],[0.6666666666666666,\"#ed7953\"],[0.7777777777777778,\"#fb9f3a\"],[0.8888888888888888,\"#fdca26\"],[1.0,\"#f0f921\"]]}],\"heatmapgl\":[{\"type\":\"heatmapgl\",\"colorbar\":{\"outlinewidth\":0,\"ticks\":\"\"},\"colorscale\":[[0.0,\"#0d0887\"],[0.1111111111111111,\"#46039f\"],[0.2222222222222222,\"#7201a8\"],[0.3333333333333333,\"#9c179e\"],[0.4444444444444444,\"#bd3786\"],[0.5555555555555556,\"#d8576b\"],[0.6666666666666666,\"#ed7953\"],[0.7777777777777778,\"#fb9f3a\"],[0.8888888888888888,\"#fdca26\"],[1.0,\"#f0f921\"]]}],\"contourcarpet\":[{\"type\":\"contourcarpet\",\"colorbar\":{\"outlinewidth\":0,\"ticks\":\"\"}}],\"contour\":[{\"type\":\"contour\",\"colorbar\":{\"outlinewidth\":0,\"ticks\":\"\"},\"colorscale\":[[0.0,\"#0d0887\"],[0.1111111111111111,\"#46039f\"],[0.2222222222222222,\"#7201a8\"],[0.3333333333333333,\"#9c179e\"],[0.4444444444444444,\"#bd3786\"],[0.5555555555555556,\"#d8576b\"],[0.6666666666666666,\"#ed7953\"],[0.7777777777777778,\"#fb9f3a\"],[0.8888888888888888,\"#fdca26\"],[1.0,\"#f0f921\"]]}],\"surface\":[{\"type\":\"surface\",\"colorbar\":{\"outlinewidth\":0,\"ticks\":\"\"},\"colorscale\":[[0.0,\"#0d0887\"],[0.1111111111111111,\"#46039f\"],[0.2222222222222222,\"#7201a8\"],[0.3333333333333333,\"#9c179e\"],[0.4444444444444444,\"#bd3786\"],[0.5555555555555556,\"#d8576b\"],[0.6666666666666666,\"#ed7953\"],[0.7777777777777778,\"#fb9f3a\"],[0.8888888888888888,\"#fdca26\"],[1.0,\"#f0f921\"]]}],\"mesh3d\":[{\"type\":\"mesh3d\",\"colorbar\":{\"outlinewidth\":0,\"ticks\":\"\"}}],\"scatter\":[{\"fillpattern\":{\"fillmode\":\"overlay\",\"size\":10,\"solidity\":0.2},\"type\":\"scatter\"}],\"parcoords\":[{\"type\":\"parcoords\",\"line\":{\"colorbar\":{\"outlinewidth\":0,\"ticks\":\"\"}}}],\"scatterpolargl\":[{\"type\":\"scatterpolargl\",\"marker\":{\"colorbar\":{\"outlinewidth\":0,\"ticks\":\"\"}}}],\"bar\":[{\"error_x\":{\"color\":\"#2a3f5f\"},\"error_y\":{\"color\":\"#2a3f5f\"},\"marker\":{\"line\":{\"color\":\"#E5ECF6\",\"width\":0.5},\"pattern\":{\"fillmode\":\"overlay\",\"size\":10,\"solidity\":0.2}},\"type\":\"bar\"}],\"scattergeo\":[{\"type\":\"scattergeo\",\"marker\":{\"colorbar\":{\"outlinewidth\":0,\"ticks\":\"\"}}}],\"scatterpolar\":[{\"type\":\"scatterpolar\",\"marker\":{\"colorbar\":{\"outlinewidth\":0,\"ticks\":\"\"}}}],\"histogram\":[{\"marker\":{\"pattern\":{\"fillmode\":\"overlay\",\"size\":10,\"solidity\":0.2}},\"type\":\"histogram\"}],\"scattergl\":[{\"type\":\"scattergl\",\"marker\":{\"colorbar\":{\"outlinewidth\":0,\"ticks\":\"\"}}}],\"scatter3d\":[{\"type\":\"scatter3d\",\"line\":{\"colorbar\":{\"outlinewidth\":0,\"ticks\":\"\"}},\"marker\":{\"colorbar\":{\"outlinewidth\":0,\"ticks\":\"\"}}}],\"scattermapbox\":[{\"type\":\"scattermapbox\",\"marker\":{\"colorbar\":{\"outlinewidth\":0,\"ticks\":\"\"}}}],\"scatterternary\":[{\"type\":\"scatterternary\",\"marker\":{\"colorbar\":{\"outlinewidth\":0,\"ticks\":\"\"}}}],\"scattercarpet\":[{\"type\":\"scattercarpet\",\"marker\":{\"colorbar\":{\"outlinewidth\":0,\"ticks\":\"\"}}}],\"carpet\":[{\"aaxis\":{\"endlinecolor\":\"#2a3f5f\",\"gridcolor\":\"white\",\"linecolor\":\"white\",\"minorgridcolor\":\"white\",\"startlinecolor\":\"#2a3f5f\"},\"baxis\":{\"endlinecolor\":\"#2a3f5f\",\"gridcolor\":\"white\",\"linecolor\":\"white\",\"minorgridcolor\":\"white\",\"startlinecolor\":\"#2a3f5f\"},\"type\":\"carpet\"}],\"table\":[{\"cells\":{\"fill\":{\"color\":\"#EBF0F8\"},\"line\":{\"color\":\"white\"}},\"header\":{\"fill\":{\"color\":\"#C8D4E3\"},\"line\":{\"color\":\"white\"}},\"type\":\"table\"}],\"barpolar\":[{\"marker\":{\"line\":{\"color\":\"#E5ECF6\",\"width\":0.5},\"pattern\":{\"fillmode\":\"overlay\",\"size\":10,\"solidity\":0.2}},\"type\":\"barpolar\"}],\"pie\":[{\"automargin\":true,\"type\":\"pie\"}]},\"layout\":{\"autotypenumbers\":\"strict\",\"colorway\":[\"#636efa\",\"#EF553B\",\"#00cc96\",\"#ab63fa\",\"#FFA15A\",\"#19d3f3\",\"#FF6692\",\"#B6E880\",\"#FF97FF\",\"#FECB52\"],\"font\":{\"color\":\"#2a3f5f\"},\"hovermode\":\"closest\",\"hoverlabel\":{\"align\":\"left\"},\"paper_bgcolor\":\"white\",\"plot_bgcolor\":\"#E5ECF6\",\"polar\":{\"bgcolor\":\"#E5ECF6\",\"angularaxis\":{\"gridcolor\":\"white\",\"linecolor\":\"white\",\"ticks\":\"\"},\"radialaxis\":{\"gridcolor\":\"white\",\"linecolor\":\"white\",\"ticks\":\"\"}},\"ternary\":{\"bgcolor\":\"#E5ECF6\",\"aaxis\":{\"gridcolor\":\"white\",\"linecolor\":\"white\",\"ticks\":\"\"},\"baxis\":{\"gridcolor\":\"white\",\"linecolor\":\"white\",\"ticks\":\"\"},\"caxis\":{\"gridcolor\":\"white\",\"linecolor\":\"white\",\"ticks\":\"\"}},\"coloraxis\":{\"colorbar\":{\"outlinewidth\":0,\"ticks\":\"\"}},\"colorscale\":{\"sequential\":[[0.0,\"#0d0887\"],[0.1111111111111111,\"#46039f\"],[0.2222222222222222,\"#7201a8\"],[0.3333333333333333,\"#9c179e\"],[0.4444444444444444,\"#bd3786\"],[0.5555555555555556,\"#d8576b\"],[0.6666666666666666,\"#ed7953\"],[0.7777777777777778,\"#fb9f3a\"],[0.8888888888888888,\"#fdca26\"],[1.0,\"#f0f921\"]],\"sequentialminus\":[[0.0,\"#0d0887\"],[0.1111111111111111,\"#46039f\"],[0.2222222222222222,\"#7201a8\"],[0.3333333333333333,\"#9c179e\"],[0.4444444444444444,\"#bd3786\"],[0.5555555555555556,\"#d8576b\"],[0.6666666666666666,\"#ed7953\"],[0.7777777777777778,\"#fb9f3a\"],[0.8888888888888888,\"#fdca26\"],[1.0,\"#f0f921\"]],\"diverging\":[[0,\"#8e0152\"],[0.1,\"#c51b7d\"],[0.2,\"#de77ae\"],[0.3,\"#f1b6da\"],[0.4,\"#fde0ef\"],[0.5,\"#f7f7f7\"],[0.6,\"#e6f5d0\"],[0.7,\"#b8e186\"],[0.8,\"#7fbc41\"],[0.9,\"#4d9221\"],[1,\"#276419\"]]},\"xaxis\":{\"gridcolor\":\"white\",\"linecolor\":\"white\",\"ticks\":\"\",\"title\":{\"standoff\":15},\"zerolinecolor\":\"white\",\"automargin\":true,\"zerolinewidth\":2},\"yaxis\":{\"gridcolor\":\"white\",\"linecolor\":\"white\",\"ticks\":\"\",\"title\":{\"standoff\":15},\"zerolinecolor\":\"white\",\"automargin\":true,\"zerolinewidth\":2},\"scene\":{\"xaxis\":{\"backgroundcolor\":\"#E5ECF6\",\"gridcolor\":\"white\",\"linecolor\":\"white\",\"showbackground\":true,\"ticks\":\"\",\"zerolinecolor\":\"white\",\"gridwidth\":2},\"yaxis\":{\"backgroundcolor\":\"#E5ECF6\",\"gridcolor\":\"white\",\"linecolor\":\"white\",\"showbackground\":true,\"ticks\":\"\",\"zerolinecolor\":\"white\",\"gridwidth\":2},\"zaxis\":{\"backgroundcolor\":\"#E5ECF6\",\"gridcolor\":\"white\",\"linecolor\":\"white\",\"showbackground\":true,\"ticks\":\"\",\"zerolinecolor\":\"white\",\"gridwidth\":2}},\"shapedefaults\":{\"line\":{\"color\":\"#2a3f5f\"}},\"annotationdefaults\":{\"arrowcolor\":\"#2a3f5f\",\"arrowhead\":0,\"arrowwidth\":1},\"geo\":{\"bgcolor\":\"white\",\"landcolor\":\"#E5ECF6\",\"subunitcolor\":\"white\",\"showland\":true,\"showlakes\":true,\"lakecolor\":\"white\"},\"title\":{\"x\":0.05},\"mapbox\":{\"style\":\"light\"}}},\"xaxis\":{\"anchor\":\"y\",\"domain\":[0.0,1.0]},\"yaxis\":{\"anchor\":\"x\",\"domain\":[0.0,1.0]}},                        {\"responsive\": true}                    ).then(function(){\n",
              "                            \n",
              "var gd = document.getElementById('ae387de3-6a27-4e93-a357-c7f645176848');\n",
              "var x = new MutationObserver(function (mutations, observer) {{\n",
              "        var display = window.getComputedStyle(gd).display;\n",
              "        if (!display || display === 'none') {{\n",
              "            console.log([gd, 'removed!']);\n",
              "            Plotly.purge(gd);\n",
              "            observer.disconnect();\n",
              "        }}\n",
              "}});\n",
              "\n",
              "// Listen for the removal of the full notebook cells\n",
              "var notebookContainer = gd.closest('#notebook-container');\n",
              "if (notebookContainer) {{\n",
              "    x.observe(notebookContainer, {childList: true});\n",
              "}}\n",
              "\n",
              "// Listen for the clearing of the current output cell\n",
              "var outputEl = gd.closest('.output');\n",
              "if (outputEl) {{\n",
              "    x.observe(outputEl, {childList: true});\n",
              "}}\n",
              "\n",
              "                        })                };                            </script>        </div>\n",
              "</body>\n",
              "</html>"
            ]
          },
          "metadata": {}
        }
      ]
    },
    {
      "cell_type": "markdown",
      "source": [
        "## RandomForestRegressor Model"
      ],
      "metadata": {
        "id": "XwHItj4F-suu"
      }
    },
    {
      "cell_type": "code",
      "source": [
        "X = daily_data.drop(['Date','Revenue','Quantity'],axis=1)\n",
        "y = daily_data.Quantity\n",
        "X_train, X_valid, y_train, y_valid = train_test_split(X,y,test_size=0.2, shuffle=False)"
      ],
      "metadata": {
        "id": "qhXtOayfbLfC"
      },
      "execution_count": 52,
      "outputs": []
    },
    {
      "cell_type": "code",
      "source": [
        "RFR = RandomForestRegressor(max_depth=20, n_estimators=100, random_state=0)\n",
        "RFR.fit(X_train,y_train)\n",
        "RFRforecast = RFR.predict(X_valid)\n",
        "f'mean squared error : {mean_squared_error(y_valid,RFRforecast)}'"
      ],
      "metadata": {
        "colab": {
          "base_uri": "https://localhost:8080/",
          "height": 36
        },
        "id": "4BoHuUo66ITa",
        "outputId": "c58631bd-9ec9-4805-96e7-8bd83a09e984"
      },
      "execution_count": 53,
      "outputs": [
        {
          "output_type": "execute_result",
          "data": {
            "text/plain": [
              "'mean squared error : 35.1581655766947'"
            ],
            "application/vnd.google.colaboratory.intrinsic+json": {
              "type": "string"
            }
          },
          "metadata": {},
          "execution_count": 53
        }
      ]
    },
    {
      "cell_type": "code",
      "source": [
        "X_valid['forecast'] = RFRforecast\n",
        "\n",
        "spliter = round(len(daily_data)*0.8)\n",
        "X_valid['Date'] = daily_data['Date'].iloc[spliter:]\n",
        "preds= X_valid[['Date','forecast']].groupby('Date').mean()\n",
        "true = daily_data[['Date','Quantity']].iloc[spliter:,:].groupby('Date').mean()\n",
        "\n",
        "show_me(true.index, true, preds)"
      ],
      "metadata": {
        "colab": {
          "base_uri": "https://localhost:8080/",
          "height": 542
        },
        "id": "5XMGiYvf_gmb",
        "outputId": "eae8415a-ad53-47f7-a06c-05fa3a6389cd"
      },
      "execution_count": 54,
      "outputs": [
        {
          "output_type": "display_data",
          "data": {
            "text/html": [
              "<html>\n",
              "<head><meta charset=\"utf-8\" /></head>\n",
              "<body>\n",
              "    <div>            <script src=\"https://cdnjs.cloudflare.com/ajax/libs/mathjax/2.7.5/MathJax.js?config=TeX-AMS-MML_SVG\"></script><script type=\"text/javascript\">if (window.MathJax && window.MathJax.Hub && window.MathJax.Hub.Config) {window.MathJax.Hub.Config({SVG: {font: \"STIX-Web\"}});}</script>                <script type=\"text/javascript\">window.PlotlyConfig = {MathJaxConfig: 'local'};</script>\n",
              "        <script charset=\"utf-8\" src=\"https://cdn.plot.ly/plotly-2.24.1.min.js\"></script>                <div id=\"8d2b81a1-ef8d-47e7-8013-cda2f908a07e\" class=\"plotly-graph-div\" style=\"height:525px; width:100%;\"></div>            <script type=\"text/javascript\">                                    window.PLOTLYENV=window.PLOTLYENV || {};                                    if (document.getElementById(\"8d2b81a1-ef8d-47e7-8013-cda2f908a07e\")) {                    Plotly.newPlot(                        \"8d2b81a1-ef8d-47e7-8013-cda2f908a07e\",                        [{\"marker\":{\"color\":\"#783242\"},\"mode\":\"lines\",\"name\":\"Original Data\",\"x\":[\"2011-10-24T00:00:00\",\"2011-10-25T00:00:00\",\"2011-10-26T00:00:00\",\"2011-10-27T00:00:00\",\"2011-10-28T00:00:00\",\"2011-10-30T00:00:00\",\"2011-10-31T00:00:00\",\"2011-11-01T00:00:00\",\"2011-11-02T00:00:00\",\"2011-11-03T00:00:00\",\"2011-11-04T00:00:00\",\"2011-11-06T00:00:00\",\"2011-11-07T00:00:00\",\"2011-11-08T00:00:00\",\"2011-11-09T00:00:00\",\"2011-11-10T00:00:00\",\"2011-11-11T00:00:00\",\"2011-11-13T00:00:00\",\"2011-11-14T00:00:00\",\"2011-11-15T00:00:00\",\"2011-11-16T00:00:00\",\"2011-11-17T00:00:00\",\"2011-11-18T00:00:00\",\"2011-11-20T00:00:00\",\"2011-11-21T00:00:00\",\"2011-11-22T00:00:00\",\"2011-11-23T00:00:00\",\"2011-11-24T00:00:00\",\"2011-11-25T00:00:00\",\"2011-11-27T00:00:00\",\"2011-11-28T00:00:00\",\"2011-11-29T00:00:00\",\"2011-11-30T00:00:00\",\"2011-12-01T00:00:00\",\"2011-12-02T00:00:00\",\"2011-12-04T00:00:00\",\"2011-12-05T00:00:00\",\"2011-12-06T00:00:00\",\"2011-12-07T00:00:00\",\"2011-12-08T00:00:00\",\"2011-12-09T00:00:00\"],\"y\":[6.709731543624161,7.950387596899224,7.676855895196507,8.54404945904173,7.552028218694885,7.4982415005861665,6.659029649595688,7.209030100334449,7.8771653543307085,8.3343653250774,7.996005326231691,7.522883295194508,7.122938530734633,7.455357142857143,8.611916264090176,8.134099616858238,8.552456839309428,7.451770451770452,6.8286358511837655,7.121985815602837,7.964131994261119,7.98719590268886,7.315712187958884,7.033254156769596,8.315186246418339,7.807361963190184,7.584862385321101,7.166237113402062,7.027355623100304,6.212716763005781,6.732362821948488,7.4019488428745435,8.40625,8.087579617834395,8.647058823529411,6.798200514138817,7.612377850162867,7.67948717948718,8.764240506329115,7.230569948186528,8.715827338129497],\"type\":\"scatter\"},{\"mode\":\"lines\",\"name\":\"Prediction\",\"x\":[\"2011-10-24T00:00:00\",\"2011-10-25T00:00:00\",\"2011-10-26T00:00:00\",\"2011-10-27T00:00:00\",\"2011-10-28T00:00:00\",\"2011-10-30T00:00:00\",\"2011-10-31T00:00:00\",\"2011-11-01T00:00:00\",\"2011-11-02T00:00:00\",\"2011-11-03T00:00:00\",\"2011-11-04T00:00:00\",\"2011-11-06T00:00:00\",\"2011-11-07T00:00:00\",\"2011-11-08T00:00:00\",\"2011-11-09T00:00:00\",\"2011-11-10T00:00:00\",\"2011-11-11T00:00:00\",\"2011-11-13T00:00:00\",\"2011-11-14T00:00:00\",\"2011-11-15T00:00:00\",\"2011-11-16T00:00:00\",\"2011-11-17T00:00:00\",\"2011-11-18T00:00:00\",\"2011-11-20T00:00:00\",\"2011-11-21T00:00:00\",\"2011-11-22T00:00:00\",\"2011-11-23T00:00:00\",\"2011-11-24T00:00:00\",\"2011-11-25T00:00:00\",\"2011-11-27T00:00:00\",\"2011-11-28T00:00:00\",\"2011-11-29T00:00:00\",\"2011-11-30T00:00:00\",\"2011-12-01T00:00:00\",\"2011-12-02T00:00:00\",\"2011-12-04T00:00:00\",\"2011-12-05T00:00:00\",\"2011-12-06T00:00:00\",\"2011-12-07T00:00:00\",\"2011-12-08T00:00:00\",\"2011-12-09T00:00:00\"],\"y\":[8.246427525613145,8.053061926264888,8.082075339780367,8.233933495643852,8.48870626181123,5.604510283347878,8.281288306770886,8.646014281676791,8.232960345399388,8.218032060918587,8.077109938206577,7.450840860525184,7.992148153379551,8.116386372324747,8.192863622048087,8.144632871766396,8.258450505544607,5.536448505110669,7.649475966466463,8.010375901540181,7.81431735864193,8.00896116032083,8.326188716662944,5.793081194202731,7.917851726681624,7.944482018040483,7.784821836589705,8.083136898801953,8.156145923703146,5.962155225170254,7.873741317904261,7.896690078096335,8.470498426605321,8.606636850269487,8.26825622833637,8.824738740714134,7.80542058413848,7.811933285102356,8.14542853931478,8.048842146082658,8.845765863962736],\"type\":\"scatter\"}],                        {\"template\":{\"data\":{\"histogram2dcontour\":[{\"type\":\"histogram2dcontour\",\"colorbar\":{\"outlinewidth\":0,\"ticks\":\"\"},\"colorscale\":[[0.0,\"#0d0887\"],[0.1111111111111111,\"#46039f\"],[0.2222222222222222,\"#7201a8\"],[0.3333333333333333,\"#9c179e\"],[0.4444444444444444,\"#bd3786\"],[0.5555555555555556,\"#d8576b\"],[0.6666666666666666,\"#ed7953\"],[0.7777777777777778,\"#fb9f3a\"],[0.8888888888888888,\"#fdca26\"],[1.0,\"#f0f921\"]]}],\"choropleth\":[{\"type\":\"choropleth\",\"colorbar\":{\"outlinewidth\":0,\"ticks\":\"\"}}],\"histogram2d\":[{\"type\":\"histogram2d\",\"colorbar\":{\"outlinewidth\":0,\"ticks\":\"\"},\"colorscale\":[[0.0,\"#0d0887\"],[0.1111111111111111,\"#46039f\"],[0.2222222222222222,\"#7201a8\"],[0.3333333333333333,\"#9c179e\"],[0.4444444444444444,\"#bd3786\"],[0.5555555555555556,\"#d8576b\"],[0.6666666666666666,\"#ed7953\"],[0.7777777777777778,\"#fb9f3a\"],[0.8888888888888888,\"#fdca26\"],[1.0,\"#f0f921\"]]}],\"heatmap\":[{\"type\":\"heatmap\",\"colorbar\":{\"outlinewidth\":0,\"ticks\":\"\"},\"colorscale\":[[0.0,\"#0d0887\"],[0.1111111111111111,\"#46039f\"],[0.2222222222222222,\"#7201a8\"],[0.3333333333333333,\"#9c179e\"],[0.4444444444444444,\"#bd3786\"],[0.5555555555555556,\"#d8576b\"],[0.6666666666666666,\"#ed7953\"],[0.7777777777777778,\"#fb9f3a\"],[0.8888888888888888,\"#fdca26\"],[1.0,\"#f0f921\"]]}],\"heatmapgl\":[{\"type\":\"heatmapgl\",\"colorbar\":{\"outlinewidth\":0,\"ticks\":\"\"},\"colorscale\":[[0.0,\"#0d0887\"],[0.1111111111111111,\"#46039f\"],[0.2222222222222222,\"#7201a8\"],[0.3333333333333333,\"#9c179e\"],[0.4444444444444444,\"#bd3786\"],[0.5555555555555556,\"#d8576b\"],[0.6666666666666666,\"#ed7953\"],[0.7777777777777778,\"#fb9f3a\"],[0.8888888888888888,\"#fdca26\"],[1.0,\"#f0f921\"]]}],\"contourcarpet\":[{\"type\":\"contourcarpet\",\"colorbar\":{\"outlinewidth\":0,\"ticks\":\"\"}}],\"contour\":[{\"type\":\"contour\",\"colorbar\":{\"outlinewidth\":0,\"ticks\":\"\"},\"colorscale\":[[0.0,\"#0d0887\"],[0.1111111111111111,\"#46039f\"],[0.2222222222222222,\"#7201a8\"],[0.3333333333333333,\"#9c179e\"],[0.4444444444444444,\"#bd3786\"],[0.5555555555555556,\"#d8576b\"],[0.6666666666666666,\"#ed7953\"],[0.7777777777777778,\"#fb9f3a\"],[0.8888888888888888,\"#fdca26\"],[1.0,\"#f0f921\"]]}],\"surface\":[{\"type\":\"surface\",\"colorbar\":{\"outlinewidth\":0,\"ticks\":\"\"},\"colorscale\":[[0.0,\"#0d0887\"],[0.1111111111111111,\"#46039f\"],[0.2222222222222222,\"#7201a8\"],[0.3333333333333333,\"#9c179e\"],[0.4444444444444444,\"#bd3786\"],[0.5555555555555556,\"#d8576b\"],[0.6666666666666666,\"#ed7953\"],[0.7777777777777778,\"#fb9f3a\"],[0.8888888888888888,\"#fdca26\"],[1.0,\"#f0f921\"]]}],\"mesh3d\":[{\"type\":\"mesh3d\",\"colorbar\":{\"outlinewidth\":0,\"ticks\":\"\"}}],\"scatter\":[{\"fillpattern\":{\"fillmode\":\"overlay\",\"size\":10,\"solidity\":0.2},\"type\":\"scatter\"}],\"parcoords\":[{\"type\":\"parcoords\",\"line\":{\"colorbar\":{\"outlinewidth\":0,\"ticks\":\"\"}}}],\"scatterpolargl\":[{\"type\":\"scatterpolargl\",\"marker\":{\"colorbar\":{\"outlinewidth\":0,\"ticks\":\"\"}}}],\"bar\":[{\"error_x\":{\"color\":\"#2a3f5f\"},\"error_y\":{\"color\":\"#2a3f5f\"},\"marker\":{\"line\":{\"color\":\"#E5ECF6\",\"width\":0.5},\"pattern\":{\"fillmode\":\"overlay\",\"size\":10,\"solidity\":0.2}},\"type\":\"bar\"}],\"scattergeo\":[{\"type\":\"scattergeo\",\"marker\":{\"colorbar\":{\"outlinewidth\":0,\"ticks\":\"\"}}}],\"scatterpolar\":[{\"type\":\"scatterpolar\",\"marker\":{\"colorbar\":{\"outlinewidth\":0,\"ticks\":\"\"}}}],\"histogram\":[{\"marker\":{\"pattern\":{\"fillmode\":\"overlay\",\"size\":10,\"solidity\":0.2}},\"type\":\"histogram\"}],\"scattergl\":[{\"type\":\"scattergl\",\"marker\":{\"colorbar\":{\"outlinewidth\":0,\"ticks\":\"\"}}}],\"scatter3d\":[{\"type\":\"scatter3d\",\"line\":{\"colorbar\":{\"outlinewidth\":0,\"ticks\":\"\"}},\"marker\":{\"colorbar\":{\"outlinewidth\":0,\"ticks\":\"\"}}}],\"scattermapbox\":[{\"type\":\"scattermapbox\",\"marker\":{\"colorbar\":{\"outlinewidth\":0,\"ticks\":\"\"}}}],\"scatterternary\":[{\"type\":\"scatterternary\",\"marker\":{\"colorbar\":{\"outlinewidth\":0,\"ticks\":\"\"}}}],\"scattercarpet\":[{\"type\":\"scattercarpet\",\"marker\":{\"colorbar\":{\"outlinewidth\":0,\"ticks\":\"\"}}}],\"carpet\":[{\"aaxis\":{\"endlinecolor\":\"#2a3f5f\",\"gridcolor\":\"white\",\"linecolor\":\"white\",\"minorgridcolor\":\"white\",\"startlinecolor\":\"#2a3f5f\"},\"baxis\":{\"endlinecolor\":\"#2a3f5f\",\"gridcolor\":\"white\",\"linecolor\":\"white\",\"minorgridcolor\":\"white\",\"startlinecolor\":\"#2a3f5f\"},\"type\":\"carpet\"}],\"table\":[{\"cells\":{\"fill\":{\"color\":\"#EBF0F8\"},\"line\":{\"color\":\"white\"}},\"header\":{\"fill\":{\"color\":\"#C8D4E3\"},\"line\":{\"color\":\"white\"}},\"type\":\"table\"}],\"barpolar\":[{\"marker\":{\"line\":{\"color\":\"#E5ECF6\",\"width\":0.5},\"pattern\":{\"fillmode\":\"overlay\",\"size\":10,\"solidity\":0.2}},\"type\":\"barpolar\"}],\"pie\":[{\"automargin\":true,\"type\":\"pie\"}]},\"layout\":{\"autotypenumbers\":\"strict\",\"colorway\":[\"#636efa\",\"#EF553B\",\"#00cc96\",\"#ab63fa\",\"#FFA15A\",\"#19d3f3\",\"#FF6692\",\"#B6E880\",\"#FF97FF\",\"#FECB52\"],\"font\":{\"color\":\"#2a3f5f\"},\"hovermode\":\"closest\",\"hoverlabel\":{\"align\":\"left\"},\"paper_bgcolor\":\"white\",\"plot_bgcolor\":\"#E5ECF6\",\"polar\":{\"bgcolor\":\"#E5ECF6\",\"angularaxis\":{\"gridcolor\":\"white\",\"linecolor\":\"white\",\"ticks\":\"\"},\"radialaxis\":{\"gridcolor\":\"white\",\"linecolor\":\"white\",\"ticks\":\"\"}},\"ternary\":{\"bgcolor\":\"#E5ECF6\",\"aaxis\":{\"gridcolor\":\"white\",\"linecolor\":\"white\",\"ticks\":\"\"},\"baxis\":{\"gridcolor\":\"white\",\"linecolor\":\"white\",\"ticks\":\"\"},\"caxis\":{\"gridcolor\":\"white\",\"linecolor\":\"white\",\"ticks\":\"\"}},\"coloraxis\":{\"colorbar\":{\"outlinewidth\":0,\"ticks\":\"\"}},\"colorscale\":{\"sequential\":[[0.0,\"#0d0887\"],[0.1111111111111111,\"#46039f\"],[0.2222222222222222,\"#7201a8\"],[0.3333333333333333,\"#9c179e\"],[0.4444444444444444,\"#bd3786\"],[0.5555555555555556,\"#d8576b\"],[0.6666666666666666,\"#ed7953\"],[0.7777777777777778,\"#fb9f3a\"],[0.8888888888888888,\"#fdca26\"],[1.0,\"#f0f921\"]],\"sequentialminus\":[[0.0,\"#0d0887\"],[0.1111111111111111,\"#46039f\"],[0.2222222222222222,\"#7201a8\"],[0.3333333333333333,\"#9c179e\"],[0.4444444444444444,\"#bd3786\"],[0.5555555555555556,\"#d8576b\"],[0.6666666666666666,\"#ed7953\"],[0.7777777777777778,\"#fb9f3a\"],[0.8888888888888888,\"#fdca26\"],[1.0,\"#f0f921\"]],\"diverging\":[[0,\"#8e0152\"],[0.1,\"#c51b7d\"],[0.2,\"#de77ae\"],[0.3,\"#f1b6da\"],[0.4,\"#fde0ef\"],[0.5,\"#f7f7f7\"],[0.6,\"#e6f5d0\"],[0.7,\"#b8e186\"],[0.8,\"#7fbc41\"],[0.9,\"#4d9221\"],[1,\"#276419\"]]},\"xaxis\":{\"gridcolor\":\"white\",\"linecolor\":\"white\",\"ticks\":\"\",\"title\":{\"standoff\":15},\"zerolinecolor\":\"white\",\"automargin\":true,\"zerolinewidth\":2},\"yaxis\":{\"gridcolor\":\"white\",\"linecolor\":\"white\",\"ticks\":\"\",\"title\":{\"standoff\":15},\"zerolinecolor\":\"white\",\"automargin\":true,\"zerolinewidth\":2},\"scene\":{\"xaxis\":{\"backgroundcolor\":\"#E5ECF6\",\"gridcolor\":\"white\",\"linecolor\":\"white\",\"showbackground\":true,\"ticks\":\"\",\"zerolinecolor\":\"white\",\"gridwidth\":2},\"yaxis\":{\"backgroundcolor\":\"#E5ECF6\",\"gridcolor\":\"white\",\"linecolor\":\"white\",\"showbackground\":true,\"ticks\":\"\",\"zerolinecolor\":\"white\",\"gridwidth\":2},\"zaxis\":{\"backgroundcolor\":\"#E5ECF6\",\"gridcolor\":\"white\",\"linecolor\":\"white\",\"showbackground\":true,\"ticks\":\"\",\"zerolinecolor\":\"white\",\"gridwidth\":2}},\"shapedefaults\":{\"line\":{\"color\":\"#2a3f5f\"}},\"annotationdefaults\":{\"arrowcolor\":\"#2a3f5f\",\"arrowhead\":0,\"arrowwidth\":1},\"geo\":{\"bgcolor\":\"white\",\"landcolor\":\"#E5ECF6\",\"subunitcolor\":\"white\",\"showland\":true,\"showlakes\":true,\"lakecolor\":\"white\"},\"title\":{\"x\":0.05},\"mapbox\":{\"style\":\"light\"}}},\"xaxis\":{\"anchor\":\"y\",\"domain\":[0.0,1.0]},\"yaxis\":{\"anchor\":\"x\",\"domain\":[0.0,1.0]}},                        {\"responsive\": true}                    ).then(function(){\n",
              "                            \n",
              "var gd = document.getElementById('8d2b81a1-ef8d-47e7-8013-cda2f908a07e');\n",
              "var x = new MutationObserver(function (mutations, observer) {{\n",
              "        var display = window.getComputedStyle(gd).display;\n",
              "        if (!display || display === 'none') {{\n",
              "            console.log([gd, 'removed!']);\n",
              "            Plotly.purge(gd);\n",
              "            observer.disconnect();\n",
              "        }}\n",
              "}});\n",
              "\n",
              "// Listen for the removal of the full notebook cells\n",
              "var notebookContainer = gd.closest('#notebook-container');\n",
              "if (notebookContainer) {{\n",
              "    x.observe(notebookContainer, {childList: true});\n",
              "}}\n",
              "\n",
              "// Listen for the clearing of the current output cell\n",
              "var outputEl = gd.closest('.output');\n",
              "if (outputEl) {{\n",
              "    x.observe(outputEl, {childList: true});\n",
              "}}\n",
              "\n",
              "                        })                };                            </script>        </div>\n",
              "</body>\n",
              "</html>"
            ]
          },
          "metadata": {}
        }
      ]
    },
    {
      "cell_type": "markdown",
      "source": [
        "## CatBoostRegressor Model"
      ],
      "metadata": {
        "id": "Gx49xRKc-w91"
      }
    },
    {
      "cell_type": "code",
      "source": [
        "X = daily_data.drop(['Date','Revenue','Quantity'],axis=1)\n",
        "y = daily_data.Quantity\n",
        "X_train, X_valid, y_train, y_valid = train_test_split(X,y,test_size=0.2, shuffle=False)"
      ],
      "metadata": {
        "id": "ECRlL_ZZbMWc"
      },
      "execution_count": 44,
      "outputs": []
    },
    {
      "cell_type": "code",
      "source": [
        "cat_features_idx = np.where(X.dtypes != int)[0]\n",
        "train_pool = Pool(X_train, y_train, cat_features=cat_features_idx)\n",
        "val_pool = Pool(X_valid, y_valid, cat_features=cat_features_idx)\n",
        "\n",
        "CBR = CatBoostRegressor(\n",
        "    loss_function=\"RMSE\",\n",
        "    random_seed=0,\n",
        "    logging_level='Silent',\n",
        "    iterations=1000,\n",
        "    max_depth=4,\n",
        "    l2_leaf_reg=3,\n",
        "    od_type='Iter',\n",
        "    od_wait=40,\n",
        "    train_dir=\"baseline\",\n",
        "    has_time=True\n",
        ")\n",
        "\n",
        "CBR.fit(train_pool, eval_set=val_pool, plot=True)\n",
        "CBRforecast = CBR.predict(X_valid)\n",
        "mse = mean_squared_error(y_valid, CBRforecast)\n",
        "print(f'Mean Squared Error: {mse}')"
      ],
      "metadata": {
        "colab": {
          "base_uri": "https://localhost:8080/",
          "height": 35,
          "referenced_widgets": [
            "bb0faca9dd9f4ca4a6a948f43da281a8"
          ]
        },
        "id": "0PFHo-9p6KGs",
        "outputId": "1e81bdb7-930b-4870-cfae-955fc681d539"
      },
      "execution_count": 45,
      "outputs": [
        {
          "output_type": "display_data",
          "data": {
            "text/plain": [
              "MetricVisualizer(layout=Layout(align_self='stretch', height='500px'))"
            ],
            "application/vnd.jupyter.widget-view+json": {
              "version_major": 2,
              "version_minor": 0,
              "model_id": "bb0faca9dd9f4ca4a6a948f43da281a8"
            }
          },
          "metadata": {}
        },
        {
          "output_type": "stream",
          "name": "stdout",
          "text": [
            "Mean Squared Error: 33.00059166752149\n"
          ]
        }
      ]
    },
    {
      "cell_type": "code",
      "source": [
        "X_valid['forecast'] = CBRforecast\n",
        "\n",
        "spliter = round(len(daily_data)*0.8)\n",
        "X_valid['Date'] = daily_data['Date'].iloc[spliter:]\n",
        "preds= X_valid[['Date','forecast']].groupby('Date').mean()\n",
        "true = daily_data[['Date','Quantity']].iloc[spliter:,:].groupby('Date').mean()\n",
        "\n",
        "show_me(true.index, true, preds)"
      ],
      "metadata": {
        "colab": {
          "base_uri": "https://localhost:8080/",
          "height": 542
        },
        "id": "PyfU6eHp70Wj",
        "outputId": "b871e553-3a59-44b9-a4a4-c1eb20b02515"
      },
      "execution_count": 46,
      "outputs": [
        {
          "output_type": "display_data",
          "data": {
            "text/html": [
              "<html>\n",
              "<head><meta charset=\"utf-8\" /></head>\n",
              "<body>\n",
              "    <div>            <script src=\"https://cdnjs.cloudflare.com/ajax/libs/mathjax/2.7.5/MathJax.js?config=TeX-AMS-MML_SVG\"></script><script type=\"text/javascript\">if (window.MathJax && window.MathJax.Hub && window.MathJax.Hub.Config) {window.MathJax.Hub.Config({SVG: {font: \"STIX-Web\"}});}</script>                <script type=\"text/javascript\">window.PlotlyConfig = {MathJaxConfig: 'local'};</script>\n",
              "        <script charset=\"utf-8\" src=\"https://cdn.plot.ly/plotly-2.24.1.min.js\"></script>                <div id=\"8fcfa2af-98e5-4f09-a7e6-5baedceaa3a9\" class=\"plotly-graph-div\" style=\"height:525px; width:100%;\"></div>            <script type=\"text/javascript\">                                    window.PLOTLYENV=window.PLOTLYENV || {};                                    if (document.getElementById(\"8fcfa2af-98e5-4f09-a7e6-5baedceaa3a9\")) {                    Plotly.newPlot(                        \"8fcfa2af-98e5-4f09-a7e6-5baedceaa3a9\",                        [{\"marker\":{\"color\":\"#783242\"},\"mode\":\"lines\",\"name\":\"Original Data\",\"x\":[\"2011-10-24T00:00:00\",\"2011-10-25T00:00:00\",\"2011-10-26T00:00:00\",\"2011-10-27T00:00:00\",\"2011-10-28T00:00:00\",\"2011-10-30T00:00:00\",\"2011-10-31T00:00:00\",\"2011-11-01T00:00:00\",\"2011-11-02T00:00:00\",\"2011-11-03T00:00:00\",\"2011-11-04T00:00:00\",\"2011-11-06T00:00:00\",\"2011-11-07T00:00:00\",\"2011-11-08T00:00:00\",\"2011-11-09T00:00:00\",\"2011-11-10T00:00:00\",\"2011-11-11T00:00:00\",\"2011-11-13T00:00:00\",\"2011-11-14T00:00:00\",\"2011-11-15T00:00:00\",\"2011-11-16T00:00:00\",\"2011-11-17T00:00:00\",\"2011-11-18T00:00:00\",\"2011-11-20T00:00:00\",\"2011-11-21T00:00:00\",\"2011-11-22T00:00:00\",\"2011-11-23T00:00:00\",\"2011-11-24T00:00:00\",\"2011-11-25T00:00:00\",\"2011-11-27T00:00:00\",\"2011-11-28T00:00:00\",\"2011-11-29T00:00:00\",\"2011-11-30T00:00:00\",\"2011-12-01T00:00:00\",\"2011-12-02T00:00:00\",\"2011-12-04T00:00:00\",\"2011-12-05T00:00:00\",\"2011-12-06T00:00:00\",\"2011-12-07T00:00:00\",\"2011-12-08T00:00:00\",\"2011-12-09T00:00:00\"],\"y\":[6.709731543624161,7.950387596899224,7.676855895196507,8.54404945904173,7.552028218694885,7.4982415005861665,6.659029649595688,7.209030100334449,7.8771653543307085,8.3343653250774,7.996005326231691,7.522883295194508,7.122938530734633,7.455357142857143,8.611916264090176,8.134099616858238,8.552456839309428,7.451770451770452,6.8286358511837655,7.121985815602837,7.964131994261119,7.98719590268886,7.315712187958884,7.033254156769596,8.315186246418339,7.807361963190184,7.584862385321101,7.166237113402062,7.027355623100304,6.212716763005781,6.732362821948488,7.4019488428745435,8.40625,8.087579617834395,8.647058823529411,6.798200514138817,7.612377850162867,7.67948717948718,8.764240506329115,7.230569948186528,8.715827338129497],\"type\":\"scatter\"},{\"mode\":\"lines\",\"name\":\"Prediction\",\"x\":[\"2011-10-24T00:00:00\",\"2011-10-25T00:00:00\",\"2011-10-26T00:00:00\",\"2011-10-27T00:00:00\",\"2011-10-28T00:00:00\",\"2011-10-30T00:00:00\",\"2011-10-31T00:00:00\",\"2011-11-01T00:00:00\",\"2011-11-02T00:00:00\",\"2011-11-03T00:00:00\",\"2011-11-04T00:00:00\",\"2011-11-06T00:00:00\",\"2011-11-07T00:00:00\",\"2011-11-08T00:00:00\",\"2011-11-09T00:00:00\",\"2011-11-10T00:00:00\",\"2011-11-11T00:00:00\",\"2011-11-13T00:00:00\",\"2011-11-14T00:00:00\",\"2011-11-15T00:00:00\",\"2011-11-16T00:00:00\",\"2011-11-17T00:00:00\",\"2011-11-18T00:00:00\",\"2011-11-20T00:00:00\",\"2011-11-21T00:00:00\",\"2011-11-22T00:00:00\",\"2011-11-23T00:00:00\",\"2011-11-24T00:00:00\",\"2011-11-25T00:00:00\",\"2011-11-27T00:00:00\",\"2011-11-28T00:00:00\",\"2011-11-29T00:00:00\",\"2011-11-30T00:00:00\",\"2011-12-01T00:00:00\",\"2011-12-02T00:00:00\",\"2011-12-04T00:00:00\",\"2011-12-05T00:00:00\",\"2011-12-06T00:00:00\",\"2011-12-07T00:00:00\",\"2011-12-08T00:00:00\",\"2011-12-09T00:00:00\"],\"y\":[7.246344207086618,7.792789595914605,7.70614445463193,7.664476689865923,7.849889296457655,6.991594583859924,7.657365672132792,7.496658675794352,7.202227518211877,7.265353974248348,7.166493537285971,6.4614874244110085,7.2199140501701935,7.154643708584626,7.287848986090564,7.3051535463661725,7.360279976846334,6.592540937395119,7.077311104424704,7.306849262953643,7.2191151461094,7.11543644552963,7.252134464789922,6.419657889777456,7.2330495219736095,7.170932660536321,7.102507753049554,7.118851048750684,7.171872846490532,6.574923069769118,7.106695401315377,6.9837902540453225,7.303163654517005,7.504286862856733,7.747887467554908,6.761230560735533,6.898951099127756,7.286279088083858,7.681502813514141,7.48604288355252,7.779814183820939],\"type\":\"scatter\"}],                        {\"template\":{\"data\":{\"histogram2dcontour\":[{\"type\":\"histogram2dcontour\",\"colorbar\":{\"outlinewidth\":0,\"ticks\":\"\"},\"colorscale\":[[0.0,\"#0d0887\"],[0.1111111111111111,\"#46039f\"],[0.2222222222222222,\"#7201a8\"],[0.3333333333333333,\"#9c179e\"],[0.4444444444444444,\"#bd3786\"],[0.5555555555555556,\"#d8576b\"],[0.6666666666666666,\"#ed7953\"],[0.7777777777777778,\"#fb9f3a\"],[0.8888888888888888,\"#fdca26\"],[1.0,\"#f0f921\"]]}],\"choropleth\":[{\"type\":\"choropleth\",\"colorbar\":{\"outlinewidth\":0,\"ticks\":\"\"}}],\"histogram2d\":[{\"type\":\"histogram2d\",\"colorbar\":{\"outlinewidth\":0,\"ticks\":\"\"},\"colorscale\":[[0.0,\"#0d0887\"],[0.1111111111111111,\"#46039f\"],[0.2222222222222222,\"#7201a8\"],[0.3333333333333333,\"#9c179e\"],[0.4444444444444444,\"#bd3786\"],[0.5555555555555556,\"#d8576b\"],[0.6666666666666666,\"#ed7953\"],[0.7777777777777778,\"#fb9f3a\"],[0.8888888888888888,\"#fdca26\"],[1.0,\"#f0f921\"]]}],\"heatmap\":[{\"type\":\"heatmap\",\"colorbar\":{\"outlinewidth\":0,\"ticks\":\"\"},\"colorscale\":[[0.0,\"#0d0887\"],[0.1111111111111111,\"#46039f\"],[0.2222222222222222,\"#7201a8\"],[0.3333333333333333,\"#9c179e\"],[0.4444444444444444,\"#bd3786\"],[0.5555555555555556,\"#d8576b\"],[0.6666666666666666,\"#ed7953\"],[0.7777777777777778,\"#fb9f3a\"],[0.8888888888888888,\"#fdca26\"],[1.0,\"#f0f921\"]]}],\"heatmapgl\":[{\"type\":\"heatmapgl\",\"colorbar\":{\"outlinewidth\":0,\"ticks\":\"\"},\"colorscale\":[[0.0,\"#0d0887\"],[0.1111111111111111,\"#46039f\"],[0.2222222222222222,\"#7201a8\"],[0.3333333333333333,\"#9c179e\"],[0.4444444444444444,\"#bd3786\"],[0.5555555555555556,\"#d8576b\"],[0.6666666666666666,\"#ed7953\"],[0.7777777777777778,\"#fb9f3a\"],[0.8888888888888888,\"#fdca26\"],[1.0,\"#f0f921\"]]}],\"contourcarpet\":[{\"type\":\"contourcarpet\",\"colorbar\":{\"outlinewidth\":0,\"ticks\":\"\"}}],\"contour\":[{\"type\":\"contour\",\"colorbar\":{\"outlinewidth\":0,\"ticks\":\"\"},\"colorscale\":[[0.0,\"#0d0887\"],[0.1111111111111111,\"#46039f\"],[0.2222222222222222,\"#7201a8\"],[0.3333333333333333,\"#9c179e\"],[0.4444444444444444,\"#bd3786\"],[0.5555555555555556,\"#d8576b\"],[0.6666666666666666,\"#ed7953\"],[0.7777777777777778,\"#fb9f3a\"],[0.8888888888888888,\"#fdca26\"],[1.0,\"#f0f921\"]]}],\"surface\":[{\"type\":\"surface\",\"colorbar\":{\"outlinewidth\":0,\"ticks\":\"\"},\"colorscale\":[[0.0,\"#0d0887\"],[0.1111111111111111,\"#46039f\"],[0.2222222222222222,\"#7201a8\"],[0.3333333333333333,\"#9c179e\"],[0.4444444444444444,\"#bd3786\"],[0.5555555555555556,\"#d8576b\"],[0.6666666666666666,\"#ed7953\"],[0.7777777777777778,\"#fb9f3a\"],[0.8888888888888888,\"#fdca26\"],[1.0,\"#f0f921\"]]}],\"mesh3d\":[{\"type\":\"mesh3d\",\"colorbar\":{\"outlinewidth\":0,\"ticks\":\"\"}}],\"scatter\":[{\"fillpattern\":{\"fillmode\":\"overlay\",\"size\":10,\"solidity\":0.2},\"type\":\"scatter\"}],\"parcoords\":[{\"type\":\"parcoords\",\"line\":{\"colorbar\":{\"outlinewidth\":0,\"ticks\":\"\"}}}],\"scatterpolargl\":[{\"type\":\"scatterpolargl\",\"marker\":{\"colorbar\":{\"outlinewidth\":0,\"ticks\":\"\"}}}],\"bar\":[{\"error_x\":{\"color\":\"#2a3f5f\"},\"error_y\":{\"color\":\"#2a3f5f\"},\"marker\":{\"line\":{\"color\":\"#E5ECF6\",\"width\":0.5},\"pattern\":{\"fillmode\":\"overlay\",\"size\":10,\"solidity\":0.2}},\"type\":\"bar\"}],\"scattergeo\":[{\"type\":\"scattergeo\",\"marker\":{\"colorbar\":{\"outlinewidth\":0,\"ticks\":\"\"}}}],\"scatterpolar\":[{\"type\":\"scatterpolar\",\"marker\":{\"colorbar\":{\"outlinewidth\":0,\"ticks\":\"\"}}}],\"histogram\":[{\"marker\":{\"pattern\":{\"fillmode\":\"overlay\",\"size\":10,\"solidity\":0.2}},\"type\":\"histogram\"}],\"scattergl\":[{\"type\":\"scattergl\",\"marker\":{\"colorbar\":{\"outlinewidth\":0,\"ticks\":\"\"}}}],\"scatter3d\":[{\"type\":\"scatter3d\",\"line\":{\"colorbar\":{\"outlinewidth\":0,\"ticks\":\"\"}},\"marker\":{\"colorbar\":{\"outlinewidth\":0,\"ticks\":\"\"}}}],\"scattermapbox\":[{\"type\":\"scattermapbox\",\"marker\":{\"colorbar\":{\"outlinewidth\":0,\"ticks\":\"\"}}}],\"scatterternary\":[{\"type\":\"scatterternary\",\"marker\":{\"colorbar\":{\"outlinewidth\":0,\"ticks\":\"\"}}}],\"scattercarpet\":[{\"type\":\"scattercarpet\",\"marker\":{\"colorbar\":{\"outlinewidth\":0,\"ticks\":\"\"}}}],\"carpet\":[{\"aaxis\":{\"endlinecolor\":\"#2a3f5f\",\"gridcolor\":\"white\",\"linecolor\":\"white\",\"minorgridcolor\":\"white\",\"startlinecolor\":\"#2a3f5f\"},\"baxis\":{\"endlinecolor\":\"#2a3f5f\",\"gridcolor\":\"white\",\"linecolor\":\"white\",\"minorgridcolor\":\"white\",\"startlinecolor\":\"#2a3f5f\"},\"type\":\"carpet\"}],\"table\":[{\"cells\":{\"fill\":{\"color\":\"#EBF0F8\"},\"line\":{\"color\":\"white\"}},\"header\":{\"fill\":{\"color\":\"#C8D4E3\"},\"line\":{\"color\":\"white\"}},\"type\":\"table\"}],\"barpolar\":[{\"marker\":{\"line\":{\"color\":\"#E5ECF6\",\"width\":0.5},\"pattern\":{\"fillmode\":\"overlay\",\"size\":10,\"solidity\":0.2}},\"type\":\"barpolar\"}],\"pie\":[{\"automargin\":true,\"type\":\"pie\"}]},\"layout\":{\"autotypenumbers\":\"strict\",\"colorway\":[\"#636efa\",\"#EF553B\",\"#00cc96\",\"#ab63fa\",\"#FFA15A\",\"#19d3f3\",\"#FF6692\",\"#B6E880\",\"#FF97FF\",\"#FECB52\"],\"font\":{\"color\":\"#2a3f5f\"},\"hovermode\":\"closest\",\"hoverlabel\":{\"align\":\"left\"},\"paper_bgcolor\":\"white\",\"plot_bgcolor\":\"#E5ECF6\",\"polar\":{\"bgcolor\":\"#E5ECF6\",\"angularaxis\":{\"gridcolor\":\"white\",\"linecolor\":\"white\",\"ticks\":\"\"},\"radialaxis\":{\"gridcolor\":\"white\",\"linecolor\":\"white\",\"ticks\":\"\"}},\"ternary\":{\"bgcolor\":\"#E5ECF6\",\"aaxis\":{\"gridcolor\":\"white\",\"linecolor\":\"white\",\"ticks\":\"\"},\"baxis\":{\"gridcolor\":\"white\",\"linecolor\":\"white\",\"ticks\":\"\"},\"caxis\":{\"gridcolor\":\"white\",\"linecolor\":\"white\",\"ticks\":\"\"}},\"coloraxis\":{\"colorbar\":{\"outlinewidth\":0,\"ticks\":\"\"}},\"colorscale\":{\"sequential\":[[0.0,\"#0d0887\"],[0.1111111111111111,\"#46039f\"],[0.2222222222222222,\"#7201a8\"],[0.3333333333333333,\"#9c179e\"],[0.4444444444444444,\"#bd3786\"],[0.5555555555555556,\"#d8576b\"],[0.6666666666666666,\"#ed7953\"],[0.7777777777777778,\"#fb9f3a\"],[0.8888888888888888,\"#fdca26\"],[1.0,\"#f0f921\"]],\"sequentialminus\":[[0.0,\"#0d0887\"],[0.1111111111111111,\"#46039f\"],[0.2222222222222222,\"#7201a8\"],[0.3333333333333333,\"#9c179e\"],[0.4444444444444444,\"#bd3786\"],[0.5555555555555556,\"#d8576b\"],[0.6666666666666666,\"#ed7953\"],[0.7777777777777778,\"#fb9f3a\"],[0.8888888888888888,\"#fdca26\"],[1.0,\"#f0f921\"]],\"diverging\":[[0,\"#8e0152\"],[0.1,\"#c51b7d\"],[0.2,\"#de77ae\"],[0.3,\"#f1b6da\"],[0.4,\"#fde0ef\"],[0.5,\"#f7f7f7\"],[0.6,\"#e6f5d0\"],[0.7,\"#b8e186\"],[0.8,\"#7fbc41\"],[0.9,\"#4d9221\"],[1,\"#276419\"]]},\"xaxis\":{\"gridcolor\":\"white\",\"linecolor\":\"white\",\"ticks\":\"\",\"title\":{\"standoff\":15},\"zerolinecolor\":\"white\",\"automargin\":true,\"zerolinewidth\":2},\"yaxis\":{\"gridcolor\":\"white\",\"linecolor\":\"white\",\"ticks\":\"\",\"title\":{\"standoff\":15},\"zerolinecolor\":\"white\",\"automargin\":true,\"zerolinewidth\":2},\"scene\":{\"xaxis\":{\"backgroundcolor\":\"#E5ECF6\",\"gridcolor\":\"white\",\"linecolor\":\"white\",\"showbackground\":true,\"ticks\":\"\",\"zerolinecolor\":\"white\",\"gridwidth\":2},\"yaxis\":{\"backgroundcolor\":\"#E5ECF6\",\"gridcolor\":\"white\",\"linecolor\":\"white\",\"showbackground\":true,\"ticks\":\"\",\"zerolinecolor\":\"white\",\"gridwidth\":2},\"zaxis\":{\"backgroundcolor\":\"#E5ECF6\",\"gridcolor\":\"white\",\"linecolor\":\"white\",\"showbackground\":true,\"ticks\":\"\",\"zerolinecolor\":\"white\",\"gridwidth\":2}},\"shapedefaults\":{\"line\":{\"color\":\"#2a3f5f\"}},\"annotationdefaults\":{\"arrowcolor\":\"#2a3f5f\",\"arrowhead\":0,\"arrowwidth\":1},\"geo\":{\"bgcolor\":\"white\",\"landcolor\":\"#E5ECF6\",\"subunitcolor\":\"white\",\"showland\":true,\"showlakes\":true,\"lakecolor\":\"white\"},\"title\":{\"x\":0.05},\"mapbox\":{\"style\":\"light\"}}},\"xaxis\":{\"anchor\":\"y\",\"domain\":[0.0,1.0]},\"yaxis\":{\"anchor\":\"x\",\"domain\":[0.0,1.0]}},                        {\"responsive\": true}                    ).then(function(){\n",
              "                            \n",
              "var gd = document.getElementById('8fcfa2af-98e5-4f09-a7e6-5baedceaa3a9');\n",
              "var x = new MutationObserver(function (mutations, observer) {{\n",
              "        var display = window.getComputedStyle(gd).display;\n",
              "        if (!display || display === 'none') {{\n",
              "            console.log([gd, 'removed!']);\n",
              "            Plotly.purge(gd);\n",
              "            observer.disconnect();\n",
              "        }}\n",
              "}});\n",
              "\n",
              "// Listen for the removal of the full notebook cells\n",
              "var notebookContainer = gd.closest('#notebook-container');\n",
              "if (notebookContainer) {{\n",
              "    x.observe(notebookContainer, {childList: true});\n",
              "}}\n",
              "\n",
              "// Listen for the clearing of the current output cell\n",
              "var outputEl = gd.closest('.output');\n",
              "if (outputEl) {{\n",
              "    x.observe(outputEl, {childList: true});\n",
              "}}\n",
              "\n",
              "                        })                };                            </script>        </div>\n",
              "</body>\n",
              "</html>"
            ]
          },
          "metadata": {}
        }
      ]
    }
  ],
  "metadata": {
    "colab": {
      "provenance": [],
      "include_colab_link": true
    },
    "kernelspec": {
      "display_name": "Python 3",
      "name": "python3"
    },
    "widgets": {
      "application/vnd.jupyter.widget-state+json": {
        "bb0faca9dd9f4ca4a6a948f43da281a8": {
          "model_module": "catboost-widget",
          "model_name": "CatboostWidgetModel",
          "model_module_version": "^1.0.0",
          "state": {
            "_dom_classes": [],
            "_model_module": "catboost-widget",
            "_model_module_version": "^1.0.0",
            "_model_name": "CatboostWidgetModel",
            "_view_count": null,
            "_view_module": "catboost-widget",
            "_view_module_version": "^1.0.0",
            "_view_name": "CatboostWidgetView",
            "data": {
              "baseline": {
                "path": "baseline",
                "name": "baseline",
                "content": {
                  "passed_iterations": 123,
                  "total_iterations": 1000,
                  "data": {
                    "iterations": [
                      {
                        "learn": [
                          6.029233518
                        ],
                        "iteration": 0,
                        "passed_time": 0.1510305062,
                        "remaining_time": 150.8794757,
                        "test": [
                          6.269106209
                        ]
                      },
                      {
                        "learn": [
                          5.994965145
                        ],
                        "iteration": 1,
                        "passed_time": 0.1905807795,
                        "remaining_time": 95.09980898,
                        "test": [
                          6.239460117
                        ]
                      },
                      {
                        "learn": [
                          5.962683374
                        ],
                        "iteration": 2,
                        "passed_time": 0.2266404626,
                        "remaining_time": 75.3201804,
                        "test": [
                          6.213011434
                        ]
                      },
                      {
                        "learn": [
                          5.931743579
                        ],
                        "iteration": 3,
                        "passed_time": 0.2678689256,
                        "remaining_time": 66.69936246,
                        "test": [
                          6.189662129
                        ]
                      },
                      {
                        "learn": [
                          5.902303255
                        ],
                        "iteration": 4,
                        "passed_time": 0.312959941,
                        "remaining_time": 62.27902825,
                        "test": [
                          6.165357775
                        ]
                      },
                      {
                        "learn": [
                          5.874071487
                        ],
                        "iteration": 5,
                        "passed_time": 0.3514344318,
                        "remaining_time": 58.22097086,
                        "test": [
                          6.140821172
                        ]
                      },
                      {
                        "learn": [
                          5.847234392
                        ],
                        "iteration": 6,
                        "passed_time": 0.3872252221,
                        "remaining_time": 54.93066366,
                        "test": [
                          6.118736916
                        ]
                      },
                      {
                        "learn": [
                          5.822156276
                        ],
                        "iteration": 7,
                        "passed_time": 0.4372468317,
                        "remaining_time": 54.21860713,
                        "test": [
                          6.098622131
                        ]
                      },
                      {
                        "learn": [
                          5.798146366
                        ],
                        "iteration": 8,
                        "passed_time": 0.4722265405,
                        "remaining_time": 51.99738907,
                        "test": [
                          6.079379275
                        ]
                      },
                      {
                        "learn": [
                          5.775325221
                        ],
                        "iteration": 9,
                        "passed_time": 0.5112187942,
                        "remaining_time": 50.61066062,
                        "test": [
                          6.060741371
                        ]
                      },
                      {
                        "learn": [
                          5.753315259
                        ],
                        "iteration": 10,
                        "passed_time": 0.5506333893,
                        "remaining_time": 49.50694746,
                        "test": [
                          6.042421309
                        ]
                      },
                      {
                        "learn": [
                          5.732543652
                        ],
                        "iteration": 11,
                        "passed_time": 0.5857892002,
                        "remaining_time": 48.22997749,
                        "test": [
                          6.026101547
                        ]
                      },
                      {
                        "learn": [
                          5.711837066
                        ],
                        "iteration": 12,
                        "passed_time": 0.6248974951,
                        "remaining_time": 47.44414059,
                        "test": [
                          6.008906255
                        ]
                      },
                      {
                        "learn": [
                          5.692701375
                        ],
                        "iteration": 13,
                        "passed_time": 0.6640079753,
                        "remaining_time": 46.76513312,
                        "test": [
                          5.993318947
                        ]
                      },
                      {
                        "learn": [
                          5.674731056
                        ],
                        "iteration": 14,
                        "passed_time": 0.70862541,
                        "remaining_time": 46.53306859,
                        "test": [
                          5.978704328
                        ]
                      },
                      {
                        "learn": [
                          5.657827886
                        ],
                        "iteration": 15,
                        "passed_time": 0.7617383179,
                        "remaining_time": 46.84690655,
                        "test": [
                          5.966966169
                        ]
                      },
                      {
                        "learn": [
                          5.641567898
                        ],
                        "iteration": 16,
                        "passed_time": 0.7990423439,
                        "remaining_time": 46.20344847,
                        "test": [
                          5.954247827
                        ]
                      },
                      {
                        "learn": [
                          5.626469845
                        ],
                        "iteration": 17,
                        "passed_time": 0.83978131,
                        "remaining_time": 45.81473591,
                        "test": [
                          5.942643861
                        ]
                      },
                      {
                        "learn": [
                          5.611398733
                        ],
                        "iteration": 18,
                        "passed_time": 0.881244747,
                        "remaining_time": 45.50005773,
                        "test": [
                          5.930307094
                        ]
                      },
                      {
                        "learn": [
                          5.597288016
                        ],
                        "iteration": 19,
                        "passed_time": 0.9196959454,
                        "remaining_time": 45.06510132,
                        "test": [
                          5.920678538
                        ]
                      },
                      {
                        "learn": [
                          5.583596652
                        ],
                        "iteration": 20,
                        "passed_time": 0.9638027371,
                        "remaining_time": 44.93156569,
                        "test": [
                          5.910562301
                        ]
                      },
                      {
                        "learn": [
                          5.570634318
                        ],
                        "iteration": 21,
                        "passed_time": 1.002349552,
                        "remaining_time": 44.55899373,
                        "test": [
                          5.900182349
                        ]
                      },
                      {
                        "learn": [
                          5.558926741
                        ],
                        "iteration": 22,
                        "passed_time": 1.044801508,
                        "remaining_time": 44.381351,
                        "test": [
                          5.890897252
                        ]
                      },
                      {
                        "learn": [
                          5.547049315
                        ],
                        "iteration": 23,
                        "passed_time": 1.083786616,
                        "remaining_time": 44.07398905,
                        "test": [
                          5.881883924
                        ]
                      },
                      {
                        "learn": [
                          5.536066502
                        ],
                        "iteration": 24,
                        "passed_time": 1.1227169,
                        "remaining_time": 43.78595912,
                        "test": [
                          5.8734108
                        ]
                      },
                      {
                        "learn": [
                          5.526644011
                        ],
                        "iteration": 25,
                        "passed_time": 1.163848758,
                        "remaining_time": 43.59956503,
                        "test": [
                          5.866628136
                        ]
                      },
                      {
                        "learn": [
                          5.5162264
                        ],
                        "iteration": 26,
                        "passed_time": 1.212380189,
                        "remaining_time": 43.69058979,
                        "test": [
                          5.85918544
                        ]
                      },
                      {
                        "learn": [
                          5.506775607
                        ],
                        "iteration": 27,
                        "passed_time": 1.252448186,
                        "remaining_time": 43.47784419,
                        "test": [
                          5.852471417
                        ]
                      },
                      {
                        "learn": [
                          5.497405468
                        ],
                        "iteration": 28,
                        "passed_time": 1.291562721,
                        "remaining_time": 43.24508284,
                        "test": [
                          5.845547676
                        ]
                      },
                      {
                        "learn": [
                          5.488706806
                        ],
                        "iteration": 29,
                        "passed_time": 1.333775241,
                        "remaining_time": 43.12539945,
                        "test": [
                          5.83911324
                        ]
                      },
                      {
                        "learn": [
                          5.480326802
                        ],
                        "iteration": 30,
                        "passed_time": 1.37264404,
                        "remaining_time": 42.90619595,
                        "test": [
                          5.834547643
                        ]
                      },
                      {
                        "learn": [
                          5.472523402
                        ],
                        "iteration": 31,
                        "passed_time": 1.412094832,
                        "remaining_time": 42.71586866,
                        "test": [
                          5.829398362
                        ]
                      },
                      {
                        "learn": [
                          5.465078548
                        ],
                        "iteration": 32,
                        "passed_time": 1.452313068,
                        "remaining_time": 42.55717385,
                        "test": [
                          5.823833828
                        ]
                      },
                      {
                        "learn": [
                          5.457983834
                        ],
                        "iteration": 33,
                        "passed_time": 1.491781769,
                        "remaining_time": 42.38415262,
                        "test": [
                          5.818973057
                        ]
                      },
                      {
                        "learn": [
                          5.450999407
                        ],
                        "iteration": 34,
                        "passed_time": 1.526568943,
                        "remaining_time": 42.08968658,
                        "test": [
                          5.813698419
                        ]
                      },
                      {
                        "learn": [
                          5.444419508
                        ],
                        "iteration": 35,
                        "passed_time": 1.565730588,
                        "remaining_time": 41.92678573,
                        "test": [
                          5.809704895
                        ]
                      },
                      {
                        "learn": [
                          5.437893364
                        ],
                        "iteration": 36,
                        "passed_time": 1.660839164,
                        "remaining_time": 43.22670582,
                        "test": [
                          5.805027896
                        ]
                      },
                      {
                        "learn": [
                          5.431960177
                        ],
                        "iteration": 37,
                        "passed_time": 1.707708439,
                        "remaining_time": 43.23198732,
                        "test": [
                          5.800637254
                        ]
                      },
                      {
                        "learn": [
                          5.426389521
                        ],
                        "iteration": 38,
                        "passed_time": 1.751552877,
                        "remaining_time": 43.16005935,
                        "test": [
                          5.79644063
                        ]
                      },
                      {
                        "learn": [
                          5.420635616
                        ],
                        "iteration": 39,
                        "passed_time": 1.821241052,
                        "remaining_time": 43.70978524,
                        "test": [
                          5.791872225
                        ]
                      },
                      {
                        "learn": [
                          5.41534553
                        ],
                        "iteration": 40,
                        "passed_time": 1.867632865,
                        "remaining_time": 43.68438823,
                        "test": [
                          5.788088913
                        ]
                      },
                      {
                        "learn": [
                          5.41049514
                        ],
                        "iteration": 41,
                        "passed_time": 1.90680226,
                        "remaining_time": 43.49325154,
                        "test": [
                          5.784477988
                        ]
                      },
                      {
                        "learn": [
                          5.40613422
                        ],
                        "iteration": 42,
                        "passed_time": 1.954840125,
                        "remaining_time": 43.50655812,
                        "test": [
                          5.781454825
                        ]
                      },
                      {
                        "learn": [
                          5.401474252
                        ],
                        "iteration": 43,
                        "passed_time": 1.993748123,
                        "remaining_time": 43.31870922,
                        "test": [
                          5.778250528
                        ]
                      },
                      {
                        "learn": [
                          5.396874793
                        ],
                        "iteration": 44,
                        "passed_time": 2.031230952,
                        "remaining_time": 43.10723465,
                        "test": [
                          5.77513716
                        ]
                      },
                      {
                        "learn": [
                          5.392060539
                        ],
                        "iteration": 45,
                        "passed_time": 2.130410995,
                        "remaining_time": 44.1828715,
                        "test": [
                          5.772375727
                        ]
                      },
                      {
                        "learn": [
                          5.387615609
                        ],
                        "iteration": 46,
                        "passed_time": 2.17400125,
                        "remaining_time": 44.08134449,
                        "test": [
                          5.770473709
                        ]
                      },
                      {
                        "learn": [
                          5.38327282
                        ],
                        "iteration": 47,
                        "passed_time": 2.213183719,
                        "remaining_time": 43.89481043,
                        "test": [
                          5.768790971
                        ]
                      },
                      {
                        "learn": [
                          5.379111182
                        ],
                        "iteration": 48,
                        "passed_time": 2.256859555,
                        "remaining_time": 43.80149871,
                        "test": [
                          5.766538297
                        ]
                      },
                      {
                        "learn": [
                          5.374902233
                        ],
                        "iteration": 49,
                        "passed_time": 2.29604163,
                        "remaining_time": 43.62479096,
                        "test": [
                          5.764642172
                        ]
                      },
                      {
                        "learn": [
                          5.371142203
                        ],
                        "iteration": 50,
                        "passed_time": 2.342932959,
                        "remaining_time": 43.59692899,
                        "test": [
                          5.762760157
                        ]
                      },
                      {
                        "learn": [
                          5.36710725
                        ],
                        "iteration": 51,
                        "passed_time": 2.398394844,
                        "remaining_time": 43.72458293,
                        "test": [
                          5.761212637
                        ]
                      },
                      {
                        "learn": [
                          5.363596633
                        ],
                        "iteration": 52,
                        "passed_time": 2.444487135,
                        "remaining_time": 43.67791164,
                        "test": [
                          5.76020883
                        ]
                      },
                      {
                        "learn": [
                          5.360134992
                        ],
                        "iteration": 53,
                        "passed_time": 2.483887749,
                        "remaining_time": 43.51403352,
                        "test": [
                          5.759316991
                        ]
                      },
                      {
                        "learn": [
                          5.356890327
                        ],
                        "iteration": 54,
                        "passed_time": 2.524820777,
                        "remaining_time": 43.38101154,
                        "test": [
                          5.758363819
                        ]
                      },
                      {
                        "learn": [
                          5.353682713
                        ],
                        "iteration": 55,
                        "passed_time": 2.565756093,
                        "remaining_time": 43.25131699,
                        "test": [
                          5.756771886
                        ]
                      },
                      {
                        "learn": [
                          5.351169231
                        ],
                        "iteration": 56,
                        "passed_time": 2.604264592,
                        "remaining_time": 43.0845879,
                        "test": [
                          5.754470742
                        ]
                      },
                      {
                        "learn": [
                          5.34827892
                        ],
                        "iteration": 57,
                        "passed_time": 2.642756716,
                        "remaining_time": 42.92201425,
                        "test": [
                          5.753443979
                        ]
                      },
                      {
                        "learn": [
                          5.345489528
                        ],
                        "iteration": 58,
                        "passed_time": 2.688450661,
                        "remaining_time": 42.87850969,
                        "test": [
                          5.752725437
                        ]
                      },
                      {
                        "learn": [
                          5.342729994
                        ],
                        "iteration": 59,
                        "passed_time": 2.728533307,
                        "remaining_time": 42.7470218,
                        "test": [
                          5.751738377
                        ]
                      },
                      {
                        "learn": [
                          5.340370612
                        ],
                        "iteration": 60,
                        "passed_time": 2.773549044,
                        "remaining_time": 42.69446807,
                        "test": [
                          5.751880378
                        ]
                      },
                      {
                        "learn": [
                          5.338017872
                        ],
                        "iteration": 61,
                        "passed_time": 2.815440212,
                        "remaining_time": 42.59488578,
                        "test": [
                          5.75130825
                        ]
                      },
                      {
                        "learn": [
                          5.335665933
                        ],
                        "iteration": 62,
                        "passed_time": 2.872752332,
                        "remaining_time": 42.72649103,
                        "test": [
                          5.750281693
                        ]
                      },
                      {
                        "learn": [
                          5.333558221
                        ],
                        "iteration": 63,
                        "passed_time": 2.91767902,
                        "remaining_time": 42.67105567,
                        "test": [
                          5.750188835
                        ]
                      },
                      {
                        "learn": [
                          5.331648488
                        ],
                        "iteration": 64,
                        "passed_time": 2.970231381,
                        "remaining_time": 42.72563601,
                        "test": [
                          5.749945459
                        ]
                      },
                      {
                        "learn": [
                          5.329514517
                        ],
                        "iteration": 65,
                        "passed_time": 3.00845676,
                        "remaining_time": 42.57422143,
                        "test": [
                          5.749991606
                        ]
                      },
                      {
                        "learn": [
                          5.327621043
                        ],
                        "iteration": 66,
                        "passed_time": 3.07607835,
                        "remaining_time": 42.83553881,
                        "test": [
                          5.748744928
                        ]
                      },
                      {
                        "learn": [
                          5.325678122
                        ],
                        "iteration": 67,
                        "passed_time": 3.146314493,
                        "remaining_time": 43.12301628,
                        "test": [
                          5.748505641
                        ]
                      },
                      {
                        "learn": [
                          5.323754301
                        ],
                        "iteration": 68,
                        "passed_time": 3.233108294,
                        "remaining_time": 43.62353365,
                        "test": [
                          5.748387279
                        ]
                      },
                      {
                        "learn": [
                          5.321942607
                        ],
                        "iteration": 69,
                        "passed_time": 3.322965095,
                        "remaining_time": 44.14796483,
                        "test": [
                          5.748618237
                        ]
                      },
                      {
                        "learn": [
                          5.320227727
                        ],
                        "iteration": 70,
                        "passed_time": 3.397929055,
                        "remaining_time": 44.46022665,
                        "test": [
                          5.748172908
                        ]
                      },
                      {
                        "learn": [
                          5.318481184
                        ],
                        "iteration": 71,
                        "passed_time": 3.49041055,
                        "remaining_time": 44.98751376,
                        "test": [
                          5.749229842
                        ]
                      },
                      {
                        "learn": [
                          5.316738638
                        ],
                        "iteration": 72,
                        "passed_time": 3.632770932,
                        "remaining_time": 46.13121443,
                        "test": [
                          5.750166375
                        ]
                      },
                      {
                        "learn": [
                          5.315137806
                        ],
                        "iteration": 73,
                        "passed_time": 3.725131378,
                        "remaining_time": 46.61448184,
                        "test": [
                          5.749026715
                        ]
                      },
                      {
                        "learn": [
                          5.313535989
                        ],
                        "iteration": 74,
                        "passed_time": 3.815531009,
                        "remaining_time": 47.05821578,
                        "test": [
                          5.748616387
                        ]
                      },
                      {
                        "learn": [
                          5.312109616
                        ],
                        "iteration": 75,
                        "passed_time": 3.90844916,
                        "remaining_time": 47.51851347,
                        "test": [
                          5.748059487
                        ]
                      },
                      {
                        "learn": [
                          5.310697365
                        ],
                        "iteration": 76,
                        "passed_time": 4.009942774,
                        "remaining_time": 48.0672361,
                        "test": [
                          5.747115012
                        ]
                      },
                      {
                        "learn": [
                          5.30938929
                        ],
                        "iteration": 77,
                        "passed_time": 4.095669389,
                        "remaining_time": 48.41291252,
                        "test": [
                          5.74714638
                        ]
                      },
                      {
                        "learn": [
                          5.308142975
                        ],
                        "iteration": 78,
                        "passed_time": 4.173847969,
                        "remaining_time": 48.65967062,
                        "test": [
                          5.746186416
                        ]
                      },
                      {
                        "learn": [
                          5.30688936
                        ],
                        "iteration": 79,
                        "passed_time": 4.259599292,
                        "remaining_time": 48.98539186,
                        "test": [
                          5.745540915
                        ]
                      },
                      {
                        "learn": [
                          5.305599281
                        ],
                        "iteration": 80,
                        "passed_time": 4.34832199,
                        "remaining_time": 49.33466554,
                        "test": [
                          5.745404719
                        ]
                      },
                      {
                        "learn": [
                          5.304431815
                        ],
                        "iteration": 81,
                        "passed_time": 4.420015188,
                        "remaining_time": 49.48260906,
                        "test": [
                          5.744684619
                        ]
                      },
                      {
                        "learn": [
                          5.303226405
                        ],
                        "iteration": 82,
                        "passed_time": 4.524307684,
                        "remaining_time": 49.98542344,
                        "test": [
                          5.74498198
                        ]
                      },
                      {
                        "learn": [
                          5.302036392
                        ],
                        "iteration": 83,
                        "passed_time": 4.610710109,
                        "remaining_time": 50.27869595,
                        "test": [
                          5.744614144
                        ]
                      },
                      {
                        "learn": [
                          5.30088552
                        ],
                        "iteration": 84,
                        "passed_time": 4.688521876,
                        "remaining_time": 50.47055902,
                        "test": [
                          5.745734075
                        ]
                      },
                      {
                        "learn": [
                          5.299794842
                        ],
                        "iteration": 85,
                        "passed_time": 4.778594638,
                        "remaining_time": 50.7864593,
                        "test": [
                          5.745793729
                        ]
                      },
                      {
                        "learn": [
                          5.298734926
                        ],
                        "iteration": 86,
                        "passed_time": 4.844018356,
                        "remaining_time": 50.83435356,
                        "test": [
                          5.746567487
                        ]
                      },
                      {
                        "learn": [
                          5.297819381
                        ],
                        "iteration": 87,
                        "passed_time": 4.935320523,
                        "remaining_time": 51.14786724,
                        "test": [
                          5.745557054
                        ]
                      },
                      {
                        "learn": [
                          5.296877086
                        ],
                        "iteration": 88,
                        "passed_time": 5.018808892,
                        "remaining_time": 51.37230225,
                        "test": [
                          5.745554642
                        ]
                      },
                      {
                        "learn": [
                          5.295942235
                        ],
                        "iteration": 89,
                        "passed_time": 5.100870816,
                        "remaining_time": 51.57547158,
                        "test": [
                          5.746716657
                        ]
                      },
                      {
                        "learn": [
                          5.294991557
                        ],
                        "iteration": 90,
                        "passed_time": 5.173124916,
                        "remaining_time": 51.67440163,
                        "test": [
                          5.746866818
                        ]
                      },
                      {
                        "learn": [
                          5.29408637
                        ],
                        "iteration": 91,
                        "passed_time": 5.271050388,
                        "remaining_time": 52.02297557,
                        "test": [
                          5.74701144
                        ]
                      },
                      {
                        "learn": [
                          5.29319413
                        ],
                        "iteration": 92,
                        "passed_time": 5.364307737,
                        "remaining_time": 52.31642062,
                        "test": [
                          5.746639505
                        ]
                      },
                      {
                        "learn": [
                          5.292347258
                        ],
                        "iteration": 93,
                        "passed_time": 5.439198539,
                        "remaining_time": 52.4246157,
                        "test": [
                          5.747851705
                        ]
                      },
                      {
                        "learn": [
                          5.291513907
                        ],
                        "iteration": 94,
                        "passed_time": 5.529701652,
                        "remaining_time": 52.67768416,
                        "test": [
                          5.748966953
                        ]
                      },
                      {
                        "learn": [
                          5.290793207
                        ],
                        "iteration": 95,
                        "passed_time": 5.620215892,
                        "remaining_time": 52.92369965,
                        "test": [
                          5.748781165
                        ]
                      },
                      {
                        "learn": [
                          5.289936643
                        ],
                        "iteration": 96,
                        "passed_time": 5.703857564,
                        "remaining_time": 53.09879773,
                        "test": [
                          5.748706483
                        ]
                      },
                      {
                        "learn": [
                          5.289133914
                        ],
                        "iteration": 97,
                        "passed_time": 5.791708049,
                        "remaining_time": 53.30735368,
                        "test": [
                          5.748650014
                        ]
                      },
                      {
                        "learn": [
                          5.28844924
                        ],
                        "iteration": 98,
                        "passed_time": 5.879259524,
                        "remaining_time": 53.50720031,
                        "test": [
                          5.748488071
                        ]
                      },
                      {
                        "learn": [
                          5.287702249
                        ],
                        "iteration": 99,
                        "passed_time": 5.967979259,
                        "remaining_time": 53.71181333,
                        "test": [
                          5.7473959
                        ]
                      },
                      {
                        "learn": [
                          5.287026597
                        ],
                        "iteration": 100,
                        "passed_time": 6.080075881,
                        "remaining_time": 54.11869522,
                        "test": [
                          5.746923048
                        ]
                      },
                      {
                        "learn": [
                          5.286375613
                        ],
                        "iteration": 101,
                        "passed_time": 6.171997094,
                        "remaining_time": 54.33777834,
                        "test": [
                          5.747225764
                        ]
                      },
                      {
                        "learn": [
                          5.28571036
                        ],
                        "iteration": 102,
                        "passed_time": 6.270228992,
                        "remaining_time": 54.60578064,
                        "test": [
                          5.747406077
                        ]
                      },
                      {
                        "learn": [
                          5.28510787
                        ],
                        "iteration": 103,
                        "passed_time": 6.356576716,
                        "remaining_time": 54.76435324,
                        "test": [
                          5.746935781
                        ]
                      },
                      {
                        "learn": [
                          5.284527627
                        ],
                        "iteration": 104,
                        "passed_time": 6.434275931,
                        "remaining_time": 54.84454246,
                        "test": [
                          5.746578263
                        ]
                      },
                      {
                        "learn": [
                          5.283849496
                        ],
                        "iteration": 105,
                        "passed_time": 6.520685896,
                        "remaining_time": 54.99521878,
                        "test": [
                          5.746958238
                        ]
                      },
                      {
                        "learn": [
                          5.28326779
                        ],
                        "iteration": 106,
                        "passed_time": 6.592237035,
                        "remaining_time": 55.01745488,
                        "test": [
                          5.746673869
                        ]
                      },
                      {
                        "learn": [
                          5.282722637
                        ],
                        "iteration": 107,
                        "passed_time": 6.684018361,
                        "remaining_time": 55.20504054,
                        "test": [
                          5.746796033
                        ]
                      },
                      {
                        "learn": [
                          5.282052875
                        ],
                        "iteration": 108,
                        "passed_time": 6.776629064,
                        "remaining_time": 55.39427978,
                        "test": [
                          5.747080558
                        ]
                      },
                      {
                        "learn": [
                          5.281452286
                        ],
                        "iteration": 109,
                        "passed_time": 6.875384906,
                        "remaining_time": 55.62811424,
                        "test": [
                          5.745980826
                        ]
                      },
                      {
                        "learn": [
                          5.280985279
                        ],
                        "iteration": 110,
                        "passed_time": 6.968915394,
                        "remaining_time": 55.81410618,
                        "test": [
                          5.746262884
                        ]
                      },
                      {
                        "learn": [
                          5.280444229
                        ],
                        "iteration": 111,
                        "passed_time": 7.072153628,
                        "remaining_time": 56.07207519,
                        "test": [
                          5.747409163
                        ]
                      },
                      {
                        "learn": [
                          5.279947813
                        ],
                        "iteration": 112,
                        "passed_time": 7.174741133,
                        "remaining_time": 56.31854323,
                        "test": [
                          5.748835483
                        ]
                      },
                      {
                        "learn": [
                          5.279453294
                        ],
                        "iteration": 113,
                        "passed_time": 7.227544393,
                        "remaining_time": 56.17196783,
                        "test": [
                          5.749127315
                        ]
                      },
                      {
                        "learn": [
                          5.278943301
                        ],
                        "iteration": 114,
                        "passed_time": 7.292627038,
                        "remaining_time": 56.12152112,
                        "test": [
                          5.749473665
                        ]
                      },
                      {
                        "learn": [
                          5.278361238
                        ],
                        "iteration": 115,
                        "passed_time": 7.344847935,
                        "remaining_time": 55.97280668,
                        "test": [
                          5.749878164
                        ]
                      },
                      {
                        "learn": [
                          5.278005213
                        ],
                        "iteration": 116,
                        "passed_time": 7.390592267,
                        "remaining_time": 55.77686301,
                        "test": [
                          5.751093208
                        ]
                      },
                      {
                        "learn": [
                          5.277551176
                        ],
                        "iteration": 117,
                        "passed_time": 7.43545504,
                        "remaining_time": 55.57687581,
                        "test": [
                          5.752180379
                        ]
                      },
                      {
                        "learn": [
                          5.277007859
                        ],
                        "iteration": 118,
                        "passed_time": 7.48032905,
                        "remaining_time": 55.37957894,
                        "test": [
                          5.752244661
                        ]
                      },
                      {
                        "learn": [
                          5.276616315
                        ],
                        "iteration": 119,
                        "passed_time": 7.524496353,
                        "remaining_time": 55.17963992,
                        "test": [
                          5.752919182
                        ]
                      },
                      {
                        "learn": [
                          5.276248051
                        ],
                        "iteration": 120,
                        "passed_time": 7.568138825,
                        "remaining_time": 54.97846303,
                        "test": [
                          5.752590735
                        ]
                      },
                      {
                        "learn": [
                          5.275878424
                        ],
                        "iteration": 121,
                        "passed_time": 7.61771342,
                        "remaining_time": 54.82256052,
                        "test": [
                          5.74807622
                        ]
                      },
                      {
                        "learn": [
                          5.275419108
                        ],
                        "iteration": 122,
                        "passed_time": 7.660180984,
                        "remaining_time": 54.61771319,
                        "test": [
                          5.748374213
                        ]
                      },
                      {
                        "learn": [
                          5.274923801
                        ],
                        "iteration": 123,
                        "passed_time": 7.706171453,
                        "remaining_time": 54.44037252,
                        "test": [
                          5.7484235
                        ]
                      }
                    ],
                    "meta": {
                      "test_sets": [
                        "test"
                      ],
                      "test_metrics": [
                        {
                          "best_value": "Min",
                          "name": "RMSE"
                        }
                      ],
                      "learn_metrics": [
                        {
                          "best_value": "Min",
                          "name": "RMSE"
                        }
                      ],
                      "launch_mode": "Train",
                      "parameters": "",
                      "iteration_count": 1000,
                      "learn_sets": [
                        "learn"
                      ],
                      "name": "experiment"
                    }
                  }
                }
              }
            },
            "layout": "IPY_MODEL_7f20d5875a66449e8caadb6712459722"
          }
        }
      }
    }
  },
  "nbformat": 4,
  "nbformat_minor": 0
}